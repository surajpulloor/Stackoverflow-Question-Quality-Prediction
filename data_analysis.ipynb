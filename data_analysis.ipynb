{
 "metadata": {
  "language_info": {
   "codemirror_mode": {
    "name": "ipython",
    "version": 3
   },
   "file_extension": ".py",
   "mimetype": "text/x-python",
   "name": "python",
   "nbconvert_exporter": "python",
   "pygments_lexer": "ipython3",
   "version": "3.8.5-final"
  },
  "orig_nbformat": 2,
  "kernelspec": {
   "name": "python3",
   "display_name": "Python 3",
   "language": "python"
  }
 },
 "nbformat": 4,
 "nbformat_minor": 2,
 "cells": [
  {
   "cell_type": "code",
   "execution_count": 2,
   "metadata": {},
   "outputs": [],
   "source": [
    "# Load the cleaned data\n",
    "import pandas as pd\n",
    "\n",
    "df = pd.read_csv('data/train.csv')"
   ]
  },
  {
   "cell_type": "code",
   "execution_count": 3,
   "metadata": {},
   "outputs": [
    {
     "output_type": "execute_result",
     "data": {
      "text/plain": [
       "         Id                                              Title  \\\n",
       "0  34552656             Java: Repeat Task Every Random Seconds   \n",
       "1  34553034                  Why are Java Optionals immutable?   \n",
       "2  34553174  Text Overlay Image with Darkened Opacity React...   \n",
       "3  34553318         Why ternary operator in swift is so picky?   \n",
       "4  34553755                 hide/show fab with scale animation   \n",
       "\n",
       "                                                Body  \\\n",
       "0  <p>I'm already familiar with repeating tasks e...   \n",
       "1  <p>I'd like to understand why Java 8 Optionals...   \n",
       "2  <p>I am attempting to overlay a title over an ...   \n",
       "3  <p>The question is very simple, but I just cou...   \n",
       "4  <p>I'm using custom floatingactionmenu. I need...   \n",
       "\n",
       "                                                Tags         CreationDate  \\\n",
       "0                                     <java><repeat>  2016-01-01 00:21:59   \n",
       "1                                   <java><optional>  2016-01-01 02:03:20   \n",
       "2  <javascript><image><overlay><react-native><opa...  2016-01-01 02:48:24   \n",
       "3  <swift><operators><whitespace><ternary-operato...  2016-01-01 03:30:17   \n",
       "4  <android><material-design><floating-action-but...  2016-01-01 05:21:48   \n",
       "\n",
       "          Y  \n",
       "0  LQ_CLOSE  \n",
       "1        HQ  \n",
       "2        HQ  \n",
       "3        HQ  \n",
       "4        HQ  "
      ],
      "text/html": "<div>\n<style scoped>\n    .dataframe tbody tr th:only-of-type {\n        vertical-align: middle;\n    }\n\n    .dataframe tbody tr th {\n        vertical-align: top;\n    }\n\n    .dataframe thead th {\n        text-align: right;\n    }\n</style>\n<table border=\"1\" class=\"dataframe\">\n  <thead>\n    <tr style=\"text-align: right;\">\n      <th></th>\n      <th>Id</th>\n      <th>Title</th>\n      <th>Body</th>\n      <th>Tags</th>\n      <th>CreationDate</th>\n      <th>Y</th>\n    </tr>\n  </thead>\n  <tbody>\n    <tr>\n      <th>0</th>\n      <td>34552656</td>\n      <td>Java: Repeat Task Every Random Seconds</td>\n      <td>&lt;p&gt;I'm already familiar with repeating tasks e...</td>\n      <td>&lt;java&gt;&lt;repeat&gt;</td>\n      <td>2016-01-01 00:21:59</td>\n      <td>LQ_CLOSE</td>\n    </tr>\n    <tr>\n      <th>1</th>\n      <td>34553034</td>\n      <td>Why are Java Optionals immutable?</td>\n      <td>&lt;p&gt;I'd like to understand why Java 8 Optionals...</td>\n      <td>&lt;java&gt;&lt;optional&gt;</td>\n      <td>2016-01-01 02:03:20</td>\n      <td>HQ</td>\n    </tr>\n    <tr>\n      <th>2</th>\n      <td>34553174</td>\n      <td>Text Overlay Image with Darkened Opacity React...</td>\n      <td>&lt;p&gt;I am attempting to overlay a title over an ...</td>\n      <td>&lt;javascript&gt;&lt;image&gt;&lt;overlay&gt;&lt;react-native&gt;&lt;opa...</td>\n      <td>2016-01-01 02:48:24</td>\n      <td>HQ</td>\n    </tr>\n    <tr>\n      <th>3</th>\n      <td>34553318</td>\n      <td>Why ternary operator in swift is so picky?</td>\n      <td>&lt;p&gt;The question is very simple, but I just cou...</td>\n      <td>&lt;swift&gt;&lt;operators&gt;&lt;whitespace&gt;&lt;ternary-operato...</td>\n      <td>2016-01-01 03:30:17</td>\n      <td>HQ</td>\n    </tr>\n    <tr>\n      <th>4</th>\n      <td>34553755</td>\n      <td>hide/show fab with scale animation</td>\n      <td>&lt;p&gt;I'm using custom floatingactionmenu. I need...</td>\n      <td>&lt;android&gt;&lt;material-design&gt;&lt;floating-action-but...</td>\n      <td>2016-01-01 05:21:48</td>\n      <td>HQ</td>\n    </tr>\n  </tbody>\n</table>\n</div>"
     },
     "metadata": {},
     "execution_count": 3
    }
   ],
   "source": [
    "df.head()"
   ]
  },
  {
   "cell_type": "code",
   "execution_count": 4,
   "metadata": {},
   "outputs": [
    {
     "output_type": "execute_result",
     "data": {
      "text/plain": [
       "(45000, 6)"
      ]
     },
     "metadata": {},
     "execution_count": 4
    }
   ],
   "source": [
    "df.shape"
   ]
  },
  {
   "cell_type": "code",
   "execution_count": 6,
   "metadata": {},
   "outputs": [],
   "source": [
    "import re\n",
    "\n",
    "def clean(text):\n",
    "    text = text.lower()\n",
    "    text = re.sub(r'[^(a-zA-Z)\\s]', '', text)\n",
    "    return text\n",
    "\n",
    "df['Body'] = df['Body'].apply(clean)\n",
    "df['Title'] = df['Title'].apply(clean)"
   ]
  },
  {
   "cell_type": "code",
   "execution_count": 7,
   "metadata": {},
   "outputs": [
    {
     "output_type": "execute_result",
     "data": {
      "text/plain": [
       "         Id                                              Title  \\\n",
       "0  34552656              java repeat task every random seconds   \n",
       "1  34553034                   why are java optionals immutable   \n",
       "2  34553174  text overlay image with darkened opacity react...   \n",
       "3  34553318          why ternary operator in swift is so picky   \n",
       "4  34553755                  hideshow fab with scale animation   \n",
       "\n",
       "                                                Body  \\\n",
       "0  pim already familiar with repeating tasks ever...   \n",
       "1  pid like to understand why java  optionals wer...   \n",
       "2  pi am attempting to overlay a title over an im...   \n",
       "3  pthe question is very simple but i just could ...   \n",
       "4  pim using custom floatingactionmenu i need to ...   \n",
       "\n",
       "                                                Tags         CreationDate  \\\n",
       "0                                     <java><repeat>  2016-01-01 00:21:59   \n",
       "1                                   <java><optional>  2016-01-01 02:03:20   \n",
       "2  <javascript><image><overlay><react-native><opa...  2016-01-01 02:48:24   \n",
       "3  <swift><operators><whitespace><ternary-operato...  2016-01-01 03:30:17   \n",
       "4  <android><material-design><floating-action-but...  2016-01-01 05:21:48   \n",
       "\n",
       "          Y  \n",
       "0  LQ_CLOSE  \n",
       "1        HQ  \n",
       "2        HQ  \n",
       "3        HQ  \n",
       "4        HQ  "
      ],
      "text/html": "<div>\n<style scoped>\n    .dataframe tbody tr th:only-of-type {\n        vertical-align: middle;\n    }\n\n    .dataframe tbody tr th {\n        vertical-align: top;\n    }\n\n    .dataframe thead th {\n        text-align: right;\n    }\n</style>\n<table border=\"1\" class=\"dataframe\">\n  <thead>\n    <tr style=\"text-align: right;\">\n      <th></th>\n      <th>Id</th>\n      <th>Title</th>\n      <th>Body</th>\n      <th>Tags</th>\n      <th>CreationDate</th>\n      <th>Y</th>\n    </tr>\n  </thead>\n  <tbody>\n    <tr>\n      <th>0</th>\n      <td>34552656</td>\n      <td>java repeat task every random seconds</td>\n      <td>pim already familiar with repeating tasks ever...</td>\n      <td>&lt;java&gt;&lt;repeat&gt;</td>\n      <td>2016-01-01 00:21:59</td>\n      <td>LQ_CLOSE</td>\n    </tr>\n    <tr>\n      <th>1</th>\n      <td>34553034</td>\n      <td>why are java optionals immutable</td>\n      <td>pid like to understand why java  optionals wer...</td>\n      <td>&lt;java&gt;&lt;optional&gt;</td>\n      <td>2016-01-01 02:03:20</td>\n      <td>HQ</td>\n    </tr>\n    <tr>\n      <th>2</th>\n      <td>34553174</td>\n      <td>text overlay image with darkened opacity react...</td>\n      <td>pi am attempting to overlay a title over an im...</td>\n      <td>&lt;javascript&gt;&lt;image&gt;&lt;overlay&gt;&lt;react-native&gt;&lt;opa...</td>\n      <td>2016-01-01 02:48:24</td>\n      <td>HQ</td>\n    </tr>\n    <tr>\n      <th>3</th>\n      <td>34553318</td>\n      <td>why ternary operator in swift is so picky</td>\n      <td>pthe question is very simple but i just could ...</td>\n      <td>&lt;swift&gt;&lt;operators&gt;&lt;whitespace&gt;&lt;ternary-operato...</td>\n      <td>2016-01-01 03:30:17</td>\n      <td>HQ</td>\n    </tr>\n    <tr>\n      <th>4</th>\n      <td>34553755</td>\n      <td>hideshow fab with scale animation</td>\n      <td>pim using custom floatingactionmenu i need to ...</td>\n      <td>&lt;android&gt;&lt;material-design&gt;&lt;floating-action-but...</td>\n      <td>2016-01-01 05:21:48</td>\n      <td>HQ</td>\n    </tr>\n  </tbody>\n</table>\n</div>"
     },
     "metadata": {},
     "execution_count": 7
    }
   ],
   "source": [
    "df.head()"
   ]
  },
  {
   "cell_type": "code",
   "execution_count": null,
   "metadata": {},
   "outputs": [],
   "source": []
  },
  {
   "source": [
    "# Top 20 Common Word's in Body "
   ],
   "cell_type": "markdown",
   "metadata": {}
  },
  {
   "cell_type": "code",
   "execution_count": 9,
   "metadata": {},
   "outputs": [
    {
     "output_type": "execute_result",
     "data": {
      "text/plain": [
       "<pandas.io.formats.style.Styler at 0x7f75f13d8b50>"
      ],
      "text/html": "<style  type=\"text/css\" >\n#T_80ff7_row0_col1{\n            background-color:  #08306b;\n            color:  #f1f1f1;\n        }#T_80ff7_row1_col1{\n            background-color:  #2575b7;\n            color:  #000000;\n        }#T_80ff7_row2_col1{\n            background-color:  #3181bd;\n            color:  #000000;\n        }#T_80ff7_row3_col1{\n            background-color:  #71b1d7;\n            color:  #000000;\n        }#T_80ff7_row4_col1{\n            background-color:  #b0d2e7;\n            color:  #000000;\n        }#T_80ff7_row5_col1{\n            background-color:  #bad6eb;\n            color:  #000000;\n        }#T_80ff7_row6_col1{\n            background-color:  #bed8ec;\n            color:  #000000;\n        }#T_80ff7_row7_col1{\n            background-color:  #d8e7f5;\n            color:  #000000;\n        }#T_80ff7_row8_col1{\n            background-color:  #e0ecf8;\n            color:  #000000;\n        }#T_80ff7_row9_col1{\n            background-color:  #e1edf8;\n            color:  #000000;\n        }#T_80ff7_row10_col1{\n            background-color:  #e7f1fa;\n            color:  #000000;\n        }#T_80ff7_row11_col1{\n            background-color:  #edf4fc;\n            color:  #000000;\n        }#T_80ff7_row12_col1{\n            background-color:  #eef5fc;\n            color:  #000000;\n        }#T_80ff7_row13_col1{\n            background-color:  #f0f6fd;\n            color:  #000000;\n        }#T_80ff7_row14_col1,#T_80ff7_row15_col1{\n            background-color:  #f2f8fd;\n            color:  #000000;\n        }#T_80ff7_row16_col1{\n            background-color:  #f4f9fe;\n            color:  #000000;\n        }#T_80ff7_row17_col1,#T_80ff7_row18_col1{\n            background-color:  #f6faff;\n            color:  #000000;\n        }#T_80ff7_row19_col1{\n            background-color:  #f7fbff;\n            color:  #000000;\n        }</style><table id=\"T_80ff7_\" ><thead>    <tr>        <th class=\"blank level0\" ></th>        <th class=\"col_heading level0 col0\" >Common_words</th>        <th class=\"col_heading level0 col1\" >count</th>    </tr></thead><tbody>\n                <tr>\n                        <th id=\"T_80ff7_level0_row0\" class=\"row_heading level0 row0\" >0</th>\n                        <td id=\"T_80ff7_row0_col0\" class=\"data row0 col0\" >the</td>\n                        <td id=\"T_80ff7_row0_col1\" class=\"data row0 col1\" >149187</td>\n            </tr>\n            <tr>\n                        <th id=\"T_80ff7_level0_row1\" class=\"row_heading level0 row1\" >1</th>\n                        <td id=\"T_80ff7_row1_col0\" class=\"data row1 col0\" >to</td>\n                        <td id=\"T_80ff7_row1_col1\" class=\"data row1 col1\" >115457</td>\n            </tr>\n            <tr>\n                        <th id=\"T_80ff7_level0_row2\" class=\"row_heading level0 row2\" >2</th>\n                        <td id=\"T_80ff7_row2_col0\" class=\"data row2 col0\" >i</td>\n                        <td id=\"T_80ff7_row2_col1\" class=\"data row2 col1\" >110224</td>\n            </tr>\n            <tr>\n                        <th id=\"T_80ff7_level0_row3\" class=\"row_heading level0 row3\" >3</th>\n                        <td id=\"T_80ff7_row3_col0\" class=\"data row3 col0\" >a</td>\n                        <td id=\"T_80ff7_row3_col1\" class=\"data row3 col1\" >84491</td>\n            </tr>\n            <tr>\n                        <th id=\"T_80ff7_level0_row4\" class=\"row_heading level0 row4\" >4</th>\n                        <td id=\"T_80ff7_row4_col0\" class=\"data row4 col0\" >is</td>\n                        <td id=\"T_80ff7_row4_col1\" class=\"data row4 col1\" >63627</td>\n            </tr>\n            <tr>\n                        <th id=\"T_80ff7_level0_row5\" class=\"row_heading level0 row5\" >5</th>\n                        <td id=\"T_80ff7_row5_col0\" class=\"data row5 col0\" >in</td>\n                        <td id=\"T_80ff7_row5_col1\" class=\"data row5 col1\" >59500</td>\n            </tr>\n            <tr>\n                        <th id=\"T_80ff7_level0_row6\" class=\"row_heading level0 row6\" >6</th>\n                        <td id=\"T_80ff7_row6_col0\" class=\"data row6 col0\" >and</td>\n                        <td id=\"T_80ff7_row6_col1\" class=\"data row6 col1\" >58011</td>\n            </tr>\n            <tr>\n                        <th id=\"T_80ff7_level0_row7\" class=\"row_heading level0 row7\" >7</th>\n                        <td id=\"T_80ff7_row7_col0\" class=\"data row7 col0\" >of</td>\n                        <td id=\"T_80ff7_row7_col1\" class=\"data row7 col1\" >43522</td>\n            </tr>\n            <tr>\n                        <th id=\"T_80ff7_level0_row8\" class=\"row_heading level0 row8\" >8</th>\n                        <td id=\"T_80ff7_row8_col0\" class=\"data row8 col0\" >it</td>\n                        <td id=\"T_80ff7_row8_col1\" class=\"data row8 col1\" >38335</td>\n            </tr>\n            <tr>\n                        <th id=\"T_80ff7_level0_row9\" class=\"row_heading level0 row9\" >9</th>\n                        <td id=\"T_80ff7_row9_col0\" class=\"data row9 col0\" >this</td>\n                        <td id=\"T_80ff7_row9_col1\" class=\"data row9 col1\" >37660</td>\n            </tr>\n            <tr>\n                        <th id=\"T_80ff7_level0_row10\" class=\"row_heading level0 row10\" >10</th>\n                        <td id=\"T_80ff7_row10_col0\" class=\"data row10 col0\" >for</td>\n                        <td id=\"T_80ff7_row10_col1\" class=\"data row10 col1\" >33836</td>\n            </tr>\n            <tr>\n                        <th id=\"T_80ff7_level0_row11\" class=\"row_heading level0 row11\" >11</th>\n                        <td id=\"T_80ff7_row11_col0\" class=\"data row11 col0\" >codepre</td>\n                        <td id=\"T_80ff7_row11_col1\" class=\"data row11 col1\" >30271</td>\n            </tr>\n            <tr>\n                        <th id=\"T_80ff7_level0_row12\" class=\"row_heading level0 row12\" >12</th>\n                        <td id=\"T_80ff7_row12_col0\" class=\"data row12 col0\" >that</td>\n                        <td id=\"T_80ff7_row12_col1\" class=\"data row12 col1\" >29978</td>\n            </tr>\n            <tr>\n                        <th id=\"T_80ff7_level0_row13\" class=\"row_heading level0 row13\" >13</th>\n                        <td id=\"T_80ff7_row13_col0\" class=\"data row13 col0\" >have</td>\n                        <td id=\"T_80ff7_row13_col1\" class=\"data row13 col1\" >28394</td>\n            </tr>\n            <tr>\n                        <th id=\"T_80ff7_level0_row14\" class=\"row_heading level0 row14\" >14</th>\n                        <td id=\"T_80ff7_row14_col0\" class=\"data row14 col0\" >)</td>\n                        <td id=\"T_80ff7_row14_col1\" class=\"data row14 col1\" >27006</td>\n            </tr>\n            <tr>\n                        <th id=\"T_80ff7_level0_row15\" class=\"row_heading level0 row15\" >15</th>\n                        <td id=\"T_80ff7_row15_col0\" class=\"data row15 col0\" >if</td>\n                        <td id=\"T_80ff7_row15_col1\" class=\"data row15 col1\" >26685</td>\n            </tr>\n            <tr>\n                        <th id=\"T_80ff7_level0_row16\" class=\"row_heading level0 row16\" >16</th>\n                        <td id=\"T_80ff7_row16_col0\" class=\"data row16 col0\" >my</td>\n                        <td id=\"T_80ff7_row16_col1\" class=\"data row16 col1\" >25885</td>\n            </tr>\n            <tr>\n                        <th id=\"T_80ff7_level0_row17\" class=\"row_heading level0 row17\" >17</th>\n                        <td id=\"T_80ff7_row17_col0\" class=\"data row17 col0\" >but</td>\n                        <td id=\"T_80ff7_row17_col1\" class=\"data row17 col1\" >24392</td>\n            </tr>\n            <tr>\n                        <th id=\"T_80ff7_level0_row18\" class=\"row_heading level0 row18\" >18</th>\n                        <td id=\"T_80ff7_row18_col0\" class=\"data row18 col0\" >with</td>\n                        <td id=\"T_80ff7_row18_col1\" class=\"data row18 col1\" >24225</td>\n            </tr>\n            <tr>\n                        <th id=\"T_80ff7_level0_row19\" class=\"row_heading level0 row19\" >19</th>\n                        <td id=\"T_80ff7_row19_col0\" class=\"data row19 col0\" >pi</td>\n                        <td id=\"T_80ff7_row19_col1\" class=\"data row19 col1\" >23669</td>\n            </tr>\n    </tbody></table>"
     },
     "metadata": {},
     "execution_count": 9
    }
   ],
   "source": [
    "from collections import Counter\n",
    "\n",
    "top = Counter([item for sublist in df['Body'] for item in sublist.split()])\n",
    "temp = pd.DataFrame(top.most_common(20))\n",
    "temp.columns = ['Common_words','count']\n",
    "temp.style.background_gradient(cmap='Blues')"
   ]
  },
  {
   "cell_type": "code",
   "execution_count": 34,
   "metadata": {},
   "outputs": [
    {
     "output_type": "display_data",
     "data": {
      "application/vnd.plotly.v1+json": {
       "config": {
        "plotlyServerURL": "https://plot.ly"
       },
       "data": [
        {
         "alignmentgroup": "True",
         "hovertemplate": "Common_words=%{y}<br>count=%{x}<extra></extra>",
         "legendgroup": "gt",
         "marker": {
          "color": "#636efa"
         },
         "name": "gt",
         "offsetgroup": "gt",
         "orientation": "h",
         "showlegend": true,
         "textposition": "auto",
         "type": "bar",
         "x": [
          46113
         ],
         "xaxis": "x",
         "y": [
          "gt"
         ],
         "yaxis": "y"
        },
        {
         "alignmentgroup": "True",
         "hovertemplate": "Common_words=%{y}<br>count=%{x}<extra></extra>",
         "legendgroup": "new",
         "marker": {
          "color": "#EF553B"
         },
         "name": "new",
         "offsetgroup": "new",
         "orientation": "h",
         "showlegend": true,
         "textposition": "auto",
         "type": "bar",
         "x": [
          36634
         ],
         "xaxis": "x",
         "y": [
          "new"
         ],
         "yaxis": "y"
        },
        {
         "alignmentgroup": "True",
         "hovertemplate": "Common_words=%{y}<br>count=%{x}<extra></extra>",
         "legendgroup": "code",
         "marker": {
          "color": "#00cc96"
         },
         "name": "code",
         "offsetgroup": "code",
         "orientation": "h",
         "showlegend": true,
         "textposition": "auto",
         "type": "bar",
         "x": [
          32511
         ],
         "xaxis": "x",
         "y": [
          "code"
         ],
         "yaxis": "y"
        },
        {
         "alignmentgroup": "True",
         "hovertemplate": "Common_words=%{y}<br>count=%{x}<extra></extra>",
         "legendgroup": "1",
         "marker": {
          "color": "#ab63fa"
         },
         "name": "1",
         "offsetgroup": "1",
         "orientation": "h",
         "showlegend": true,
         "textposition": "auto",
         "type": "bar",
         "x": [
          31233
         ],
         "xaxis": "x",
         "y": [
          "1"
         ],
         "yaxis": "y"
        },
        {
         "alignmentgroup": "True",
         "hovertemplate": "Common_words=%{y}<br>count=%{x}<extra></extra>",
         "legendgroup": "public",
         "marker": {
          "color": "#FFA15A"
         },
         "name": "public",
         "offsetgroup": "public",
         "orientation": "h",
         "showlegend": true,
         "textposition": "auto",
         "type": "bar",
         "x": [
          30995
         ],
         "xaxis": "x",
         "y": [
          "public"
         ],
         "yaxis": "y"
        },
        {
         "alignmentgroup": "True",
         "hovertemplate": "Common_words=%{y}<br>count=%{x}<extra></extra>",
         "legendgroup": "0",
         "marker": {
          "color": "#19d3f3"
         },
         "name": "0",
         "offsetgroup": "0",
         "orientation": "h",
         "showlegend": true,
         "textposition": "auto",
         "type": "bar",
         "x": [
          30988
         ],
         "xaxis": "x",
         "y": [
          "0"
         ],
         "yaxis": "y"
        },
        {
         "alignmentgroup": "True",
         "hovertemplate": "Common_words=%{y}<br>count=%{x}<extra></extra>",
         "legendgroup": "im",
         "marker": {
          "color": "#FF6692"
         },
         "name": "im",
         "offsetgroup": "im",
         "orientation": "h",
         "showlegend": true,
         "textposition": "auto",
         "type": "bar",
         "x": [
          27834
         ],
         "xaxis": "x",
         "y": [
          "im"
         ],
         "yaxis": "y"
        },
        {
         "alignmentgroup": "True",
         "hovertemplate": "Common_words=%{y}<br>count=%{x}<extra></extra>",
         "legendgroup": "like",
         "marker": {
          "color": "#B6E880"
         },
         "name": "like",
         "offsetgroup": "like",
         "orientation": "h",
         "showlegend": true,
         "textposition": "auto",
         "type": "bar",
         "x": [
          26977
         ],
         "xaxis": "x",
         "y": [
          "like"
         ],
         "yaxis": "y"
        },
        {
         "alignmentgroup": "True",
         "hovertemplate": "Common_words=%{y}<br>count=%{x}<extra></extra>",
         "legendgroup": "file",
         "marker": {
          "color": "#FF97FF"
         },
         "name": "file",
         "offsetgroup": "file",
         "orientation": "h",
         "showlegend": true,
         "textposition": "auto",
         "type": "bar",
         "x": [
          25222
         ],
         "xaxis": "x",
         "y": [
          "file"
         ],
         "yaxis": "y"
        },
        {
         "alignmentgroup": "True",
         "hovertemplate": "Common_words=%{y}<br>count=%{x}<extra></extra>",
         "legendgroup": "return",
         "marker": {
          "color": "#FECB52"
         },
         "name": "return",
         "offsetgroup": "return",
         "orientation": "h",
         "showlegend": true,
         "textposition": "auto",
         "type": "bar",
         "x": [
          24627
         ],
         "xaxis": "x",
         "y": [
          "return"
         ],
         "yaxis": "y"
        },
        {
         "alignmentgroup": "True",
         "hovertemplate": "Common_words=%{y}<br>count=%{x}<extra></extra>",
         "legendgroup": "function",
         "marker": {
          "color": "#636efa"
         },
         "name": "function",
         "offsetgroup": "function",
         "orientation": "h",
         "showlegend": true,
         "textposition": "auto",
         "type": "bar",
         "x": [
          22994
         ],
         "xaxis": "x",
         "y": [
          "function"
         ],
         "yaxis": "y"
        },
        {
         "alignmentgroup": "True",
         "hovertemplate": "Common_words=%{y}<br>count=%{x}<extra></extra>",
         "legendgroup": "want",
         "marker": {
          "color": "#EF553B"
         },
         "name": "want",
         "offsetgroup": "want",
         "orientation": "h",
         "showlegend": true,
         "textposition": "auto",
         "type": "bar",
         "x": [
          22595
         ],
         "xaxis": "x",
         "y": [
          "want"
         ],
         "yaxis": "y"
        },
        {
         "alignmentgroup": "True",
         "hovertemplate": "Common_words=%{y}<br>count=%{x}<extra></extra>",
         "legendgroup": "error",
         "marker": {
          "color": "#00cc96"
         },
         "name": "error",
         "offsetgroup": "error",
         "orientation": "h",
         "showlegend": true,
         "textposition": "auto",
         "type": "bar",
         "x": [
          22485
         ],
         "xaxis": "x",
         "y": [
          "error"
         ],
         "yaxis": "y"
        },
        {
         "alignmentgroup": "True",
         "hovertemplate": "Common_words=%{y}<br>count=%{x}<extra></extra>",
         "legendgroup": "string",
         "marker": {
          "color": "#ab63fa"
         },
         "name": "string",
         "offsetgroup": "string",
         "orientation": "h",
         "showlegend": true,
         "textposition": "auto",
         "type": "bar",
         "x": [
          22254
         ],
         "xaxis": "x",
         "y": [
          "string"
         ],
         "yaxis": "y"
        },
        {
         "alignmentgroup": "True",
         "hovertemplate": "Common_words=%{y}<br>count=%{x}<extra></extra>",
         "legendgroup": "class",
         "marker": {
          "color": "#FFA15A"
         },
         "name": "class",
         "offsetgroup": "class",
         "orientation": "h",
         "showlegend": true,
         "textposition": "auto",
         "type": "bar",
         "x": [
          21786
         ],
         "xaxis": "x",
         "y": [
          "class"
         ],
         "yaxis": "y"
        },
        {
         "alignmentgroup": "True",
         "hovertemplate": "Common_words=%{y}<br>count=%{x}<extra></extra>",
         "legendgroup": "use",
         "marker": {
          "color": "#19d3f3"
         },
         "name": "use",
         "offsetgroup": "use",
         "orientation": "h",
         "showlegend": true,
         "textposition": "auto",
         "type": "bar",
         "x": [
          20546
         ],
         "xaxis": "x",
         "y": [
          "use"
         ],
         "yaxis": "y"
        },
        {
         "alignmentgroup": "True",
         "hovertemplate": "Common_words=%{y}<br>count=%{x}<extra></extra>",
         "legendgroup": "var",
         "marker": {
          "color": "#FF6692"
         },
         "name": "var",
         "offsetgroup": "var",
         "orientation": "h",
         "showlegend": true,
         "textposition": "auto",
         "type": "bar",
         "x": [
          20457
         ],
         "xaxis": "x",
         "y": [
          "var"
         ],
         "yaxis": "y"
        },
        {
         "alignmentgroup": "True",
         "hovertemplate": "Common_words=%{y}<br>count=%{x}<extra></extra>",
         "legendgroup": "data",
         "marker": {
          "color": "#B6E880"
         },
         "name": "data",
         "offsetgroup": "data",
         "orientation": "h",
         "showlegend": true,
         "textposition": "auto",
         "type": "bar",
         "x": [
          19945
         ],
         "xaxis": "x",
         "y": [
          "data"
         ],
         "yaxis": "y"
        },
        {
         "alignmentgroup": "True",
         "hovertemplate": "Common_words=%{y}<br>count=%{x}<extra></extra>",
         "legendgroup": "int",
         "marker": {
          "color": "#FF97FF"
         },
         "name": "int",
         "offsetgroup": "int",
         "orientation": "h",
         "showlegend": true,
         "textposition": "auto",
         "type": "bar",
         "x": [
          18456
         ],
         "xaxis": "x",
         "y": [
          "int"
         ],
         "yaxis": "y"
        },
        {
         "alignmentgroup": "True",
         "hovertemplate": "Common_words=%{y}<br>count=%{x}<extra></extra>",
         "legendgroup": "2",
         "marker": {
          "color": "#FECB52"
         },
         "name": "2",
         "offsetgroup": "2",
         "orientation": "h",
         "showlegend": true,
         "textposition": "auto",
         "type": "bar",
         "x": [
          17803
         ],
         "xaxis": "x",
         "y": [
          "2"
         ],
         "yaxis": "y"
        }
       ],
       "layout": {
        "barmode": "relative",
        "height": 700,
        "legend": {
         "title": {
          "text": "Common_words"
         },
         "tracegroupgap": 0
        },
        "template": {
         "data": {
          "bar": [
           {
            "error_x": {
             "color": "#2a3f5f"
            },
            "error_y": {
             "color": "#2a3f5f"
            },
            "marker": {
             "line": {
              "color": "#E5ECF6",
              "width": 0.5
             }
            },
            "type": "bar"
           }
          ],
          "barpolar": [
           {
            "marker": {
             "line": {
              "color": "#E5ECF6",
              "width": 0.5
             }
            },
            "type": "barpolar"
           }
          ],
          "carpet": [
           {
            "aaxis": {
             "endlinecolor": "#2a3f5f",
             "gridcolor": "white",
             "linecolor": "white",
             "minorgridcolor": "white",
             "startlinecolor": "#2a3f5f"
            },
            "baxis": {
             "endlinecolor": "#2a3f5f",
             "gridcolor": "white",
             "linecolor": "white",
             "minorgridcolor": "white",
             "startlinecolor": "#2a3f5f"
            },
            "type": "carpet"
           }
          ],
          "choropleth": [
           {
            "colorbar": {
             "outlinewidth": 0,
             "ticks": ""
            },
            "type": "choropleth"
           }
          ],
          "contour": [
           {
            "colorbar": {
             "outlinewidth": 0,
             "ticks": ""
            },
            "colorscale": [
             [
              0,
              "#0d0887"
             ],
             [
              0.1111111111111111,
              "#46039f"
             ],
             [
              0.2222222222222222,
              "#7201a8"
             ],
             [
              0.3333333333333333,
              "#9c179e"
             ],
             [
              0.4444444444444444,
              "#bd3786"
             ],
             [
              0.5555555555555556,
              "#d8576b"
             ],
             [
              0.6666666666666666,
              "#ed7953"
             ],
             [
              0.7777777777777778,
              "#fb9f3a"
             ],
             [
              0.8888888888888888,
              "#fdca26"
             ],
             [
              1,
              "#f0f921"
             ]
            ],
            "type": "contour"
           }
          ],
          "contourcarpet": [
           {
            "colorbar": {
             "outlinewidth": 0,
             "ticks": ""
            },
            "type": "contourcarpet"
           }
          ],
          "heatmap": [
           {
            "colorbar": {
             "outlinewidth": 0,
             "ticks": ""
            },
            "colorscale": [
             [
              0,
              "#0d0887"
             ],
             [
              0.1111111111111111,
              "#46039f"
             ],
             [
              0.2222222222222222,
              "#7201a8"
             ],
             [
              0.3333333333333333,
              "#9c179e"
             ],
             [
              0.4444444444444444,
              "#bd3786"
             ],
             [
              0.5555555555555556,
              "#d8576b"
             ],
             [
              0.6666666666666666,
              "#ed7953"
             ],
             [
              0.7777777777777778,
              "#fb9f3a"
             ],
             [
              0.8888888888888888,
              "#fdca26"
             ],
             [
              1,
              "#f0f921"
             ]
            ],
            "type": "heatmap"
           }
          ],
          "heatmapgl": [
           {
            "colorbar": {
             "outlinewidth": 0,
             "ticks": ""
            },
            "colorscale": [
             [
              0,
              "#0d0887"
             ],
             [
              0.1111111111111111,
              "#46039f"
             ],
             [
              0.2222222222222222,
              "#7201a8"
             ],
             [
              0.3333333333333333,
              "#9c179e"
             ],
             [
              0.4444444444444444,
              "#bd3786"
             ],
             [
              0.5555555555555556,
              "#d8576b"
             ],
             [
              0.6666666666666666,
              "#ed7953"
             ],
             [
              0.7777777777777778,
              "#fb9f3a"
             ],
             [
              0.8888888888888888,
              "#fdca26"
             ],
             [
              1,
              "#f0f921"
             ]
            ],
            "type": "heatmapgl"
           }
          ],
          "histogram": [
           {
            "marker": {
             "colorbar": {
              "outlinewidth": 0,
              "ticks": ""
             }
            },
            "type": "histogram"
           }
          ],
          "histogram2d": [
           {
            "colorbar": {
             "outlinewidth": 0,
             "ticks": ""
            },
            "colorscale": [
             [
              0,
              "#0d0887"
             ],
             [
              0.1111111111111111,
              "#46039f"
             ],
             [
              0.2222222222222222,
              "#7201a8"
             ],
             [
              0.3333333333333333,
              "#9c179e"
             ],
             [
              0.4444444444444444,
              "#bd3786"
             ],
             [
              0.5555555555555556,
              "#d8576b"
             ],
             [
              0.6666666666666666,
              "#ed7953"
             ],
             [
              0.7777777777777778,
              "#fb9f3a"
             ],
             [
              0.8888888888888888,
              "#fdca26"
             ],
             [
              1,
              "#f0f921"
             ]
            ],
            "type": "histogram2d"
           }
          ],
          "histogram2dcontour": [
           {
            "colorbar": {
             "outlinewidth": 0,
             "ticks": ""
            },
            "colorscale": [
             [
              0,
              "#0d0887"
             ],
             [
              0.1111111111111111,
              "#46039f"
             ],
             [
              0.2222222222222222,
              "#7201a8"
             ],
             [
              0.3333333333333333,
              "#9c179e"
             ],
             [
              0.4444444444444444,
              "#bd3786"
             ],
             [
              0.5555555555555556,
              "#d8576b"
             ],
             [
              0.6666666666666666,
              "#ed7953"
             ],
             [
              0.7777777777777778,
              "#fb9f3a"
             ],
             [
              0.8888888888888888,
              "#fdca26"
             ],
             [
              1,
              "#f0f921"
             ]
            ],
            "type": "histogram2dcontour"
           }
          ],
          "mesh3d": [
           {
            "colorbar": {
             "outlinewidth": 0,
             "ticks": ""
            },
            "type": "mesh3d"
           }
          ],
          "parcoords": [
           {
            "line": {
             "colorbar": {
              "outlinewidth": 0,
              "ticks": ""
             }
            },
            "type": "parcoords"
           }
          ],
          "pie": [
           {
            "automargin": true,
            "type": "pie"
           }
          ],
          "scatter": [
           {
            "marker": {
             "colorbar": {
              "outlinewidth": 0,
              "ticks": ""
             }
            },
            "type": "scatter"
           }
          ],
          "scatter3d": [
           {
            "line": {
             "colorbar": {
              "outlinewidth": 0,
              "ticks": ""
             }
            },
            "marker": {
             "colorbar": {
              "outlinewidth": 0,
              "ticks": ""
             }
            },
            "type": "scatter3d"
           }
          ],
          "scattercarpet": [
           {
            "marker": {
             "colorbar": {
              "outlinewidth": 0,
              "ticks": ""
             }
            },
            "type": "scattercarpet"
           }
          ],
          "scattergeo": [
           {
            "marker": {
             "colorbar": {
              "outlinewidth": 0,
              "ticks": ""
             }
            },
            "type": "scattergeo"
           }
          ],
          "scattergl": [
           {
            "marker": {
             "colorbar": {
              "outlinewidth": 0,
              "ticks": ""
             }
            },
            "type": "scattergl"
           }
          ],
          "scattermapbox": [
           {
            "marker": {
             "colorbar": {
              "outlinewidth": 0,
              "ticks": ""
             }
            },
            "type": "scattermapbox"
           }
          ],
          "scatterpolar": [
           {
            "marker": {
             "colorbar": {
              "outlinewidth": 0,
              "ticks": ""
             }
            },
            "type": "scatterpolar"
           }
          ],
          "scatterpolargl": [
           {
            "marker": {
             "colorbar": {
              "outlinewidth": 0,
              "ticks": ""
             }
            },
            "type": "scatterpolargl"
           }
          ],
          "scatterternary": [
           {
            "marker": {
             "colorbar": {
              "outlinewidth": 0,
              "ticks": ""
             }
            },
            "type": "scatterternary"
           }
          ],
          "surface": [
           {
            "colorbar": {
             "outlinewidth": 0,
             "ticks": ""
            },
            "colorscale": [
             [
              0,
              "#0d0887"
             ],
             [
              0.1111111111111111,
              "#46039f"
             ],
             [
              0.2222222222222222,
              "#7201a8"
             ],
             [
              0.3333333333333333,
              "#9c179e"
             ],
             [
              0.4444444444444444,
              "#bd3786"
             ],
             [
              0.5555555555555556,
              "#d8576b"
             ],
             [
              0.6666666666666666,
              "#ed7953"
             ],
             [
              0.7777777777777778,
              "#fb9f3a"
             ],
             [
              0.8888888888888888,
              "#fdca26"
             ],
             [
              1,
              "#f0f921"
             ]
            ],
            "type": "surface"
           }
          ],
          "table": [
           {
            "cells": {
             "fill": {
              "color": "#EBF0F8"
             },
             "line": {
              "color": "white"
             }
            },
            "header": {
             "fill": {
              "color": "#C8D4E3"
             },
             "line": {
              "color": "white"
             }
            },
            "type": "table"
           }
          ]
         },
         "layout": {
          "annotationdefaults": {
           "arrowcolor": "#2a3f5f",
           "arrowhead": 0,
           "arrowwidth": 1
          },
          "autotypenumbers": "strict",
          "coloraxis": {
           "colorbar": {
            "outlinewidth": 0,
            "ticks": ""
           }
          },
          "colorscale": {
           "diverging": [
            [
             0,
             "#8e0152"
            ],
            [
             0.1,
             "#c51b7d"
            ],
            [
             0.2,
             "#de77ae"
            ],
            [
             0.3,
             "#f1b6da"
            ],
            [
             0.4,
             "#fde0ef"
            ],
            [
             0.5,
             "#f7f7f7"
            ],
            [
             0.6,
             "#e6f5d0"
            ],
            [
             0.7,
             "#b8e186"
            ],
            [
             0.8,
             "#7fbc41"
            ],
            [
             0.9,
             "#4d9221"
            ],
            [
             1,
             "#276419"
            ]
           ],
           "sequential": [
            [
             0,
             "#0d0887"
            ],
            [
             0.1111111111111111,
             "#46039f"
            ],
            [
             0.2222222222222222,
             "#7201a8"
            ],
            [
             0.3333333333333333,
             "#9c179e"
            ],
            [
             0.4444444444444444,
             "#bd3786"
            ],
            [
             0.5555555555555556,
             "#d8576b"
            ],
            [
             0.6666666666666666,
             "#ed7953"
            ],
            [
             0.7777777777777778,
             "#fb9f3a"
            ],
            [
             0.8888888888888888,
             "#fdca26"
            ],
            [
             1,
             "#f0f921"
            ]
           ],
           "sequentialminus": [
            [
             0,
             "#0d0887"
            ],
            [
             0.1111111111111111,
             "#46039f"
            ],
            [
             0.2222222222222222,
             "#7201a8"
            ],
            [
             0.3333333333333333,
             "#9c179e"
            ],
            [
             0.4444444444444444,
             "#bd3786"
            ],
            [
             0.5555555555555556,
             "#d8576b"
            ],
            [
             0.6666666666666666,
             "#ed7953"
            ],
            [
             0.7777777777777778,
             "#fb9f3a"
            ],
            [
             0.8888888888888888,
             "#fdca26"
            ],
            [
             1,
             "#f0f921"
            ]
           ]
          },
          "colorway": [
           "#636efa",
           "#EF553B",
           "#00cc96",
           "#ab63fa",
           "#FFA15A",
           "#19d3f3",
           "#FF6692",
           "#B6E880",
           "#FF97FF",
           "#FECB52"
          ],
          "font": {
           "color": "#2a3f5f"
          },
          "geo": {
           "bgcolor": "white",
           "lakecolor": "white",
           "landcolor": "#E5ECF6",
           "showlakes": true,
           "showland": true,
           "subunitcolor": "white"
          },
          "hoverlabel": {
           "align": "left"
          },
          "hovermode": "closest",
          "mapbox": {
           "style": "light"
          },
          "paper_bgcolor": "white",
          "plot_bgcolor": "#E5ECF6",
          "polar": {
           "angularaxis": {
            "gridcolor": "white",
            "linecolor": "white",
            "ticks": ""
           },
           "bgcolor": "#E5ECF6",
           "radialaxis": {
            "gridcolor": "white",
            "linecolor": "white",
            "ticks": ""
           }
          },
          "scene": {
           "xaxis": {
            "backgroundcolor": "#E5ECF6",
            "gridcolor": "white",
            "gridwidth": 2,
            "linecolor": "white",
            "showbackground": true,
            "ticks": "",
            "zerolinecolor": "white"
           },
           "yaxis": {
            "backgroundcolor": "#E5ECF6",
            "gridcolor": "white",
            "gridwidth": 2,
            "linecolor": "white",
            "showbackground": true,
            "ticks": "",
            "zerolinecolor": "white"
           },
           "zaxis": {
            "backgroundcolor": "#E5ECF6",
            "gridcolor": "white",
            "gridwidth": 2,
            "linecolor": "white",
            "showbackground": true,
            "ticks": "",
            "zerolinecolor": "white"
           }
          },
          "shapedefaults": {
           "line": {
            "color": "#2a3f5f"
           }
          },
          "ternary": {
           "aaxis": {
            "gridcolor": "white",
            "linecolor": "white",
            "ticks": ""
           },
           "baxis": {
            "gridcolor": "white",
            "linecolor": "white",
            "ticks": ""
           },
           "bgcolor": "#E5ECF6",
           "caxis": {
            "gridcolor": "white",
            "linecolor": "white",
            "ticks": ""
           }
          },
          "title": {
           "x": 0.05
          },
          "xaxis": {
           "automargin": true,
           "gridcolor": "white",
           "linecolor": "white",
           "ticks": "",
           "title": {
            "standoff": 15
           },
           "zerolinecolor": "white",
           "zerolinewidth": 2
          },
          "yaxis": {
           "automargin": true,
           "gridcolor": "white",
           "linecolor": "white",
           "ticks": "",
           "title": {
            "standoff": 15
           },
           "zerolinecolor": "white",
           "zerolinewidth": 2
          }
         }
        },
        "title": {
         "text": "Commmon Words in Body"
        },
        "width": 700,
        "xaxis": {
         "anchor": "y",
         "domain": [
          0,
          1
         ],
         "title": {
          "text": "count"
         }
        },
        "yaxis": {
         "anchor": "x",
         "categoryarray": [
          "2",
          "int",
          "data",
          "var",
          "use",
          "class",
          "string",
          "error",
          "want",
          "function",
          "return",
          "file",
          "like",
          "im",
          "0",
          "public",
          "1",
          "code",
          "new",
          "gt"
         ],
         "categoryorder": "array",
         "domain": [
          0,
          1
         ],
         "title": {
          "text": "Common_words"
         }
        }
       }
      }
     },
     "metadata": {}
    }
   ],
   "source": [
    "import plotly.express as px\n",
    "\n",
    "fig = px.bar(temp, x=\"count\", y=\"Common_words\", title='Commmon Words in Body', orientation='h', \n",
    "             width=700, height=700,color='Common_words')\n",
    "fig.show()"
   ]
  },
  {
   "cell_type": "code",
   "execution_count": 35,
   "metadata": {},
   "outputs": [
    {
     "output_type": "display_data",
     "data": {
      "application/vnd.plotly.v1+json": {
       "config": {
        "plotlyServerURL": "https://plot.ly"
       },
       "data": [
        {
         "branchvalues": "total",
         "domain": {
          "x": [
           0,
           1
          ],
          "y": [
           0,
           1
          ]
         },
         "hovertemplate": "labels=%{label}<br>count=%{value}<br>parent=%{parent}<br>id=%{id}<extra></extra>",
         "ids": [
          "0",
          "1",
          "2",
          "class",
          "code",
          "data",
          "error",
          "file",
          "function",
          "gt",
          "im",
          "int",
          "like",
          "new",
          "public",
          "return",
          "string",
          "use",
          "var",
          "want"
         ],
         "labels": [
          "0",
          "1",
          "2",
          "class",
          "code",
          "data",
          "error",
          "file",
          "function",
          "gt",
          "im",
          "int",
          "like",
          "new",
          "public",
          "return",
          "string",
          "use",
          "var",
          "want"
         ],
         "name": "",
         "parents": [
          "",
          "",
          "",
          "",
          "",
          "",
          "",
          "",
          "",
          "",
          "",
          "",
          "",
          "",
          "",
          "",
          "",
          "",
          "",
          ""
         ],
         "type": "treemap",
         "values": [
          30988,
          31233,
          17803,
          21786,
          32511,
          19945,
          22485,
          25222,
          22994,
          46113,
          27834,
          18456,
          26977,
          36634,
          30995,
          24627,
          22254,
          20546,
          20457,
          22595
         ]
        }
       ],
       "layout": {
        "legend": {
         "tracegroupgap": 0
        },
        "template": {
         "data": {
          "bar": [
           {
            "error_x": {
             "color": "#2a3f5f"
            },
            "error_y": {
             "color": "#2a3f5f"
            },
            "marker": {
             "line": {
              "color": "#E5ECF6",
              "width": 0.5
             }
            },
            "type": "bar"
           }
          ],
          "barpolar": [
           {
            "marker": {
             "line": {
              "color": "#E5ECF6",
              "width": 0.5
             }
            },
            "type": "barpolar"
           }
          ],
          "carpet": [
           {
            "aaxis": {
             "endlinecolor": "#2a3f5f",
             "gridcolor": "white",
             "linecolor": "white",
             "minorgridcolor": "white",
             "startlinecolor": "#2a3f5f"
            },
            "baxis": {
             "endlinecolor": "#2a3f5f",
             "gridcolor": "white",
             "linecolor": "white",
             "minorgridcolor": "white",
             "startlinecolor": "#2a3f5f"
            },
            "type": "carpet"
           }
          ],
          "choropleth": [
           {
            "colorbar": {
             "outlinewidth": 0,
             "ticks": ""
            },
            "type": "choropleth"
           }
          ],
          "contour": [
           {
            "colorbar": {
             "outlinewidth": 0,
             "ticks": ""
            },
            "colorscale": [
             [
              0,
              "#0d0887"
             ],
             [
              0.1111111111111111,
              "#46039f"
             ],
             [
              0.2222222222222222,
              "#7201a8"
             ],
             [
              0.3333333333333333,
              "#9c179e"
             ],
             [
              0.4444444444444444,
              "#bd3786"
             ],
             [
              0.5555555555555556,
              "#d8576b"
             ],
             [
              0.6666666666666666,
              "#ed7953"
             ],
             [
              0.7777777777777778,
              "#fb9f3a"
             ],
             [
              0.8888888888888888,
              "#fdca26"
             ],
             [
              1,
              "#f0f921"
             ]
            ],
            "type": "contour"
           }
          ],
          "contourcarpet": [
           {
            "colorbar": {
             "outlinewidth": 0,
             "ticks": ""
            },
            "type": "contourcarpet"
           }
          ],
          "heatmap": [
           {
            "colorbar": {
             "outlinewidth": 0,
             "ticks": ""
            },
            "colorscale": [
             [
              0,
              "#0d0887"
             ],
             [
              0.1111111111111111,
              "#46039f"
             ],
             [
              0.2222222222222222,
              "#7201a8"
             ],
             [
              0.3333333333333333,
              "#9c179e"
             ],
             [
              0.4444444444444444,
              "#bd3786"
             ],
             [
              0.5555555555555556,
              "#d8576b"
             ],
             [
              0.6666666666666666,
              "#ed7953"
             ],
             [
              0.7777777777777778,
              "#fb9f3a"
             ],
             [
              0.8888888888888888,
              "#fdca26"
             ],
             [
              1,
              "#f0f921"
             ]
            ],
            "type": "heatmap"
           }
          ],
          "heatmapgl": [
           {
            "colorbar": {
             "outlinewidth": 0,
             "ticks": ""
            },
            "colorscale": [
             [
              0,
              "#0d0887"
             ],
             [
              0.1111111111111111,
              "#46039f"
             ],
             [
              0.2222222222222222,
              "#7201a8"
             ],
             [
              0.3333333333333333,
              "#9c179e"
             ],
             [
              0.4444444444444444,
              "#bd3786"
             ],
             [
              0.5555555555555556,
              "#d8576b"
             ],
             [
              0.6666666666666666,
              "#ed7953"
             ],
             [
              0.7777777777777778,
              "#fb9f3a"
             ],
             [
              0.8888888888888888,
              "#fdca26"
             ],
             [
              1,
              "#f0f921"
             ]
            ],
            "type": "heatmapgl"
           }
          ],
          "histogram": [
           {
            "marker": {
             "colorbar": {
              "outlinewidth": 0,
              "ticks": ""
             }
            },
            "type": "histogram"
           }
          ],
          "histogram2d": [
           {
            "colorbar": {
             "outlinewidth": 0,
             "ticks": ""
            },
            "colorscale": [
             [
              0,
              "#0d0887"
             ],
             [
              0.1111111111111111,
              "#46039f"
             ],
             [
              0.2222222222222222,
              "#7201a8"
             ],
             [
              0.3333333333333333,
              "#9c179e"
             ],
             [
              0.4444444444444444,
              "#bd3786"
             ],
             [
              0.5555555555555556,
              "#d8576b"
             ],
             [
              0.6666666666666666,
              "#ed7953"
             ],
             [
              0.7777777777777778,
              "#fb9f3a"
             ],
             [
              0.8888888888888888,
              "#fdca26"
             ],
             [
              1,
              "#f0f921"
             ]
            ],
            "type": "histogram2d"
           }
          ],
          "histogram2dcontour": [
           {
            "colorbar": {
             "outlinewidth": 0,
             "ticks": ""
            },
            "colorscale": [
             [
              0,
              "#0d0887"
             ],
             [
              0.1111111111111111,
              "#46039f"
             ],
             [
              0.2222222222222222,
              "#7201a8"
             ],
             [
              0.3333333333333333,
              "#9c179e"
             ],
             [
              0.4444444444444444,
              "#bd3786"
             ],
             [
              0.5555555555555556,
              "#d8576b"
             ],
             [
              0.6666666666666666,
              "#ed7953"
             ],
             [
              0.7777777777777778,
              "#fb9f3a"
             ],
             [
              0.8888888888888888,
              "#fdca26"
             ],
             [
              1,
              "#f0f921"
             ]
            ],
            "type": "histogram2dcontour"
           }
          ],
          "mesh3d": [
           {
            "colorbar": {
             "outlinewidth": 0,
             "ticks": ""
            },
            "type": "mesh3d"
           }
          ],
          "parcoords": [
           {
            "line": {
             "colorbar": {
              "outlinewidth": 0,
              "ticks": ""
             }
            },
            "type": "parcoords"
           }
          ],
          "pie": [
           {
            "automargin": true,
            "type": "pie"
           }
          ],
          "scatter": [
           {
            "marker": {
             "colorbar": {
              "outlinewidth": 0,
              "ticks": ""
             }
            },
            "type": "scatter"
           }
          ],
          "scatter3d": [
           {
            "line": {
             "colorbar": {
              "outlinewidth": 0,
              "ticks": ""
             }
            },
            "marker": {
             "colorbar": {
              "outlinewidth": 0,
              "ticks": ""
             }
            },
            "type": "scatter3d"
           }
          ],
          "scattercarpet": [
           {
            "marker": {
             "colorbar": {
              "outlinewidth": 0,
              "ticks": ""
             }
            },
            "type": "scattercarpet"
           }
          ],
          "scattergeo": [
           {
            "marker": {
             "colorbar": {
              "outlinewidth": 0,
              "ticks": ""
             }
            },
            "type": "scattergeo"
           }
          ],
          "scattergl": [
           {
            "marker": {
             "colorbar": {
              "outlinewidth": 0,
              "ticks": ""
             }
            },
            "type": "scattergl"
           }
          ],
          "scattermapbox": [
           {
            "marker": {
             "colorbar": {
              "outlinewidth": 0,
              "ticks": ""
             }
            },
            "type": "scattermapbox"
           }
          ],
          "scatterpolar": [
           {
            "marker": {
             "colorbar": {
              "outlinewidth": 0,
              "ticks": ""
             }
            },
            "type": "scatterpolar"
           }
          ],
          "scatterpolargl": [
           {
            "marker": {
             "colorbar": {
              "outlinewidth": 0,
              "ticks": ""
             }
            },
            "type": "scatterpolargl"
           }
          ],
          "scatterternary": [
           {
            "marker": {
             "colorbar": {
              "outlinewidth": 0,
              "ticks": ""
             }
            },
            "type": "scatterternary"
           }
          ],
          "surface": [
           {
            "colorbar": {
             "outlinewidth": 0,
             "ticks": ""
            },
            "colorscale": [
             [
              0,
              "#0d0887"
             ],
             [
              0.1111111111111111,
              "#46039f"
             ],
             [
              0.2222222222222222,
              "#7201a8"
             ],
             [
              0.3333333333333333,
              "#9c179e"
             ],
             [
              0.4444444444444444,
              "#bd3786"
             ],
             [
              0.5555555555555556,
              "#d8576b"
             ],
             [
              0.6666666666666666,
              "#ed7953"
             ],
             [
              0.7777777777777778,
              "#fb9f3a"
             ],
             [
              0.8888888888888888,
              "#fdca26"
             ],
             [
              1,
              "#f0f921"
             ]
            ],
            "type": "surface"
           }
          ],
          "table": [
           {
            "cells": {
             "fill": {
              "color": "#EBF0F8"
             },
             "line": {
              "color": "white"
             }
            },
            "header": {
             "fill": {
              "color": "#C8D4E3"
             },
             "line": {
              "color": "white"
             }
            },
            "type": "table"
           }
          ]
         },
         "layout": {
          "annotationdefaults": {
           "arrowcolor": "#2a3f5f",
           "arrowhead": 0,
           "arrowwidth": 1
          },
          "autotypenumbers": "strict",
          "coloraxis": {
           "colorbar": {
            "outlinewidth": 0,
            "ticks": ""
           }
          },
          "colorscale": {
           "diverging": [
            [
             0,
             "#8e0152"
            ],
            [
             0.1,
             "#c51b7d"
            ],
            [
             0.2,
             "#de77ae"
            ],
            [
             0.3,
             "#f1b6da"
            ],
            [
             0.4,
             "#fde0ef"
            ],
            [
             0.5,
             "#f7f7f7"
            ],
            [
             0.6,
             "#e6f5d0"
            ],
            [
             0.7,
             "#b8e186"
            ],
            [
             0.8,
             "#7fbc41"
            ],
            [
             0.9,
             "#4d9221"
            ],
            [
             1,
             "#276419"
            ]
           ],
           "sequential": [
            [
             0,
             "#0d0887"
            ],
            [
             0.1111111111111111,
             "#46039f"
            ],
            [
             0.2222222222222222,
             "#7201a8"
            ],
            [
             0.3333333333333333,
             "#9c179e"
            ],
            [
             0.4444444444444444,
             "#bd3786"
            ],
            [
             0.5555555555555556,
             "#d8576b"
            ],
            [
             0.6666666666666666,
             "#ed7953"
            ],
            [
             0.7777777777777778,
             "#fb9f3a"
            ],
            [
             0.8888888888888888,
             "#fdca26"
            ],
            [
             1,
             "#f0f921"
            ]
           ],
           "sequentialminus": [
            [
             0,
             "#0d0887"
            ],
            [
             0.1111111111111111,
             "#46039f"
            ],
            [
             0.2222222222222222,
             "#7201a8"
            ],
            [
             0.3333333333333333,
             "#9c179e"
            ],
            [
             0.4444444444444444,
             "#bd3786"
            ],
            [
             0.5555555555555556,
             "#d8576b"
            ],
            [
             0.6666666666666666,
             "#ed7953"
            ],
            [
             0.7777777777777778,
             "#fb9f3a"
            ],
            [
             0.8888888888888888,
             "#fdca26"
            ],
            [
             1,
             "#f0f921"
            ]
           ]
          },
          "colorway": [
           "#636efa",
           "#EF553B",
           "#00cc96",
           "#ab63fa",
           "#FFA15A",
           "#19d3f3",
           "#FF6692",
           "#B6E880",
           "#FF97FF",
           "#FECB52"
          ],
          "font": {
           "color": "#2a3f5f"
          },
          "geo": {
           "bgcolor": "white",
           "lakecolor": "white",
           "landcolor": "#E5ECF6",
           "showlakes": true,
           "showland": true,
           "subunitcolor": "white"
          },
          "hoverlabel": {
           "align": "left"
          },
          "hovermode": "closest",
          "mapbox": {
           "style": "light"
          },
          "paper_bgcolor": "white",
          "plot_bgcolor": "#E5ECF6",
          "polar": {
           "angularaxis": {
            "gridcolor": "white",
            "linecolor": "white",
            "ticks": ""
           },
           "bgcolor": "#E5ECF6",
           "radialaxis": {
            "gridcolor": "white",
            "linecolor": "white",
            "ticks": ""
           }
          },
          "scene": {
           "xaxis": {
            "backgroundcolor": "#E5ECF6",
            "gridcolor": "white",
            "gridwidth": 2,
            "linecolor": "white",
            "showbackground": true,
            "ticks": "",
            "zerolinecolor": "white"
           },
           "yaxis": {
            "backgroundcolor": "#E5ECF6",
            "gridcolor": "white",
            "gridwidth": 2,
            "linecolor": "white",
            "showbackground": true,
            "ticks": "",
            "zerolinecolor": "white"
           },
           "zaxis": {
            "backgroundcolor": "#E5ECF6",
            "gridcolor": "white",
            "gridwidth": 2,
            "linecolor": "white",
            "showbackground": true,
            "ticks": "",
            "zerolinecolor": "white"
           }
          },
          "shapedefaults": {
           "line": {
            "color": "#2a3f5f"
           }
          },
          "ternary": {
           "aaxis": {
            "gridcolor": "white",
            "linecolor": "white",
            "ticks": ""
           },
           "baxis": {
            "gridcolor": "white",
            "linecolor": "white",
            "ticks": ""
           },
           "bgcolor": "#E5ECF6",
           "caxis": {
            "gridcolor": "white",
            "linecolor": "white",
            "ticks": ""
           }
          },
          "title": {
           "x": 0.05
          },
          "xaxis": {
           "automargin": true,
           "gridcolor": "white",
           "linecolor": "white",
           "ticks": "",
           "title": {
            "standoff": 15
           },
           "zerolinecolor": "white",
           "zerolinewidth": 2
          },
          "yaxis": {
           "automargin": true,
           "gridcolor": "white",
           "linecolor": "white",
           "ticks": "",
           "title": {
            "standoff": 15
           },
           "zerolinecolor": "white",
           "zerolinewidth": 2
          }
         }
        },
        "title": {
         "text": "Tree of Most Common Words in the body"
        }
       }
      }
     },
     "metadata": {}
    }
   ],
   "source": [
    "fig = px.treemap(temp, path=['Common_words'], values='count',title='Tree of Most Common Words in the body')\n",
    "fig.show()"
   ]
  },
  {
   "source": [
    "# Top 20 Common Word's in Title "
   ],
   "cell_type": "markdown",
   "metadata": {}
  },
  {
   "cell_type": "code",
   "execution_count": 44,
   "metadata": {},
   "outputs": [
    {
     "output_type": "execute_result",
     "data": {
      "text/plain": [
       "<pandas.io.formats.style.Styler at 0x1a4353e8d30>"
      ],
      "text/html": "<style  type=\"text/css\" >\n#T_27f4c697_45a0_11eb_b30a_d03745aabf2erow0_col1{\n            background-color:  #ffffff;\n            color:  #000000;\n        }#T_27f4c697_45a0_11eb_b30a_d03745aabf2erow1_col1{\n            background-color:  #e6cd3f;\n            color:  #000000;\n        }#T_27f4c697_45a0_11eb_b30a_d03745aabf2erow2_col1{\n            background-color:  #e6c529;\n            color:  #000000;\n        }#T_27f4c697_45a0_11eb_b30a_d03745aabf2erow3_col1{\n            background-color:  #e6a50f;\n            color:  #000000;\n        }#T_27f4c697_45a0_11eb_b30a_d03745aabf2erow4_col1{\n            background-color:  #e6a10d;\n            color:  #000000;\n        }#T_27f4c697_45a0_11eb_b30a_d03745aabf2erow5_col1{\n            background-color:  #d43a4c;\n            color:  #f1f1f1;\n        }#T_27f4c697_45a0_11eb_b30a_d03745aabf2erow6_col1{\n            background-color:  #8e3189;\n            color:  #f1f1f1;\n        }#T_27f4c697_45a0_11eb_b30a_d03745aabf2erow7_col1{\n            background-color:  #782e9b;\n            color:  #f1f1f1;\n        }#T_27f4c697_45a0_11eb_b30a_d03745aabf2erow8_col1{\n            background-color:  #652aab;\n            color:  #f1f1f1;\n        }#T_27f4c697_45a0_11eb_b30a_d03745aabf2erow9_col1{\n            background-color:  #5227bb;\n            color:  #f1f1f1;\n        }#T_27f4c697_45a0_11eb_b30a_d03745aabf2erow10_col1{\n            background-color:  #4d26bf;\n            color:  #f1f1f1;\n        }#T_27f4c697_45a0_11eb_b30a_d03745aabf2erow11_col1{\n            background-color:  #4026aa;\n            color:  #f1f1f1;\n        }#T_27f4c697_45a0_11eb_b30a_d03745aabf2erow12_col1{\n            background-color:  #302690;\n            color:  #f1f1f1;\n        }#T_27f4c697_45a0_11eb_b30a_d03745aabf2erow13_col1{\n            background-color:  #2e268c;\n            color:  #f1f1f1;\n        }#T_27f4c697_45a0_11eb_b30a_d03745aabf2erow14_col1{\n            background-color:  #2a2686;\n            color:  #f1f1f1;\n        }#T_27f4c697_45a0_11eb_b30a_d03745aabf2erow15_col1{\n            background-color:  #242478;\n            color:  #f1f1f1;\n        }#T_27f4c697_45a0_11eb_b30a_d03745aabf2erow16_col1{\n            background-color:  #161648;\n            color:  #f1f1f1;\n        }#T_27f4c697_45a0_11eb_b30a_d03745aabf2erow17_col1{\n            background-color:  #141444;\n            color:  #f1f1f1;\n        }#T_27f4c697_45a0_11eb_b30a_d03745aabf2erow18_col1{\n            background-color:  #101034;\n            color:  #f1f1f1;\n        }#T_27f4c697_45a0_11eb_b30a_d03745aabf2erow19_col1{\n            background-color:  #0d0d2c;\n            color:  #f1f1f1;\n        }#T_27f4c697_45a0_11eb_b30a_d03745aabf2erow20_col1{\n            background-color:  #08081c;\n            color:  #f1f1f1;\n        }#T_27f4c697_45a0_11eb_b30a_d03745aabf2erow21_col1{\n            background-color:  #060614;\n            color:  #f1f1f1;\n        }#T_27f4c697_45a0_11eb_b30a_d03745aabf2erow22_col1,#T_27f4c697_45a0_11eb_b30a_d03745aabf2erow23_col1{\n            background-color:  #050510;\n            color:  #f1f1f1;\n        }#T_27f4c697_45a0_11eb_b30a_d03745aabf2erow24_col1{\n            background-color:  #000000;\n            color:  #f1f1f1;\n        }</style><table id=\"T_27f4c697_45a0_11eb_b30a_d03745aabf2e\" ><thead>    <tr>        <th class=\"blank level0\" ></th>        <th class=\"col_heading level0 col0\" >Common_words</th>        <th class=\"col_heading level0 col1\" >count</th>    </tr></thead><tbody>\n                <tr>\n                        <th id=\"T_27f4c697_45a0_11eb_b30a_d03745aabf2elevel0_row0\" class=\"row_heading level0 row0\" >0</th>\n                        <td id=\"T_27f4c697_45a0_11eb_b30a_d03745aabf2erow0_col0\" class=\"data row0 col0\" >file</td>\n                        <td id=\"T_27f4c697_45a0_11eb_b30a_d03745aabf2erow0_col1\" class=\"data row0 col1\" >2704</td>\n            </tr>\n            <tr>\n                        <th id=\"T_27f4c697_45a0_11eb_b30a_d03745aabf2elevel0_row1\" class=\"row_heading level0 row1\" >1</th>\n                        <td id=\"T_27f4c697_45a0_11eb_b30a_d03745aabf2erow1_col0\" class=\"data row1 col0\" >error</td>\n                        <td id=\"T_27f4c697_45a0_11eb_b30a_d03745aabf2erow1_col1\" class=\"data row1 col1\" >2387</td>\n            </tr>\n            <tr>\n                        <th id=\"T_27f4c697_45a0_11eb_b30a_d03745aabf2elevel0_row2\" class=\"row_heading level0 row2\" >2</th>\n                        <td id=\"T_27f4c697_45a0_11eb_b30a_d03745aabf2erow2_col0\" class=\"data row2 col0\" >c</td>\n                        <td id=\"T_27f4c697_45a0_11eb_b30a_d03745aabf2erow2_col1\" class=\"data row2 col1\" >2348</td>\n            </tr>\n            <tr>\n                        <th id=\"T_27f4c697_45a0_11eb_b30a_d03745aabf2elevel0_row3\" class=\"row_heading level0 row3\" >3</th>\n                        <td id=\"T_27f4c697_45a0_11eb_b30a_d03745aabf2erow3_col0\" class=\"data row3 col0\" >data</td>\n                        <td id=\"T_27f4c697_45a0_11eb_b30a_d03745aabf2erow3_col1\" class=\"data row3 col1\" >2238</td>\n            </tr>\n            <tr>\n                        <th id=\"T_27f4c697_45a0_11eb_b30a_d03745aabf2elevel0_row4\" class=\"row_heading level0 row4\" >4</th>\n                        <td id=\"T_27f4c697_45a0_11eb_b30a_d03745aabf2erow4_col0\" class=\"data row4 col0\" >android</td>\n                        <td id=\"T_27f4c697_45a0_11eb_b30a_d03745aabf2erow4_col1\" class=\"data row4 col1\" >2226</td>\n            </tr>\n            <tr>\n                        <th id=\"T_27f4c697_45a0_11eb_b30a_d03745aabf2elevel0_row5\" class=\"row_heading level0 row5\" >5</th>\n                        <td id=\"T_27f4c697_45a0_11eb_b30a_d03745aabf2erow5_col0\" class=\"data row5 col0\" >php</td>\n                        <td id=\"T_27f4c697_45a0_11eb_b30a_d03745aabf2erow5_col1\" class=\"data row5 col1\" >1859</td>\n            </tr>\n            <tr>\n                        <th id=\"T_27f4c697_45a0_11eb_b30a_d03745aabf2elevel0_row6\" class=\"row_heading level0 row6\" >6</th>\n                        <td id=\"T_27f4c697_45a0_11eb_b30a_d03745aabf2erow6_col0\" class=\"data row6 col0\" >jquery</td>\n                        <td id=\"T_27f4c697_45a0_11eb_b30a_d03745aabf2erow6_col1\" class=\"data row6 col1\" >1722</td>\n            </tr>\n            <tr>\n                        <th id=\"T_27f4c697_45a0_11eb_b30a_d03745aabf2elevel0_row7\" class=\"row_heading level0 row7\" >7</th>\n                        <td id=\"T_27f4c697_45a0_11eb_b30a_d03745aabf2erow7_col0\" class=\"data row7 col0\" >use</td>\n                        <td id=\"T_27f4c697_45a0_11eb_b30a_d03745aabf2erow7_col1\" class=\"data row7 col1\" >1666</td>\n            </tr>\n            <tr>\n                        <th id=\"T_27f4c697_45a0_11eb_b30a_d03745aabf2elevel0_row8\" class=\"row_heading level0 row8\" >8</th>\n                        <td id=\"T_27f4c697_45a0_11eb_b30a_d03745aabf2erow8_col0\" class=\"data row8 col0\" >java</td>\n                        <td id=\"T_27f4c697_45a0_11eb_b30a_d03745aabf2erow8_col1\" class=\"data row8 col1\" >1618</td>\n            </tr>\n            <tr>\n                        <th id=\"T_27f4c697_45a0_11eb_b30a_d03745aabf2elevel0_row9\" class=\"row_heading level0 row9\" >9</th>\n                        <td id=\"T_27f4c697_45a0_11eb_b30a_d03745aabf2erow9_col0\" class=\"data row9 col0\" >function</td>\n                        <td id=\"T_27f4c697_45a0_11eb_b30a_d03745aabf2erow9_col1\" class=\"data row9 col1\" >1571</td>\n            </tr>\n            <tr>\n                        <th id=\"T_27f4c697_45a0_11eb_b30a_d03745aabf2elevel0_row10\" class=\"row_heading level0 row10\" >10</th>\n                        <td id=\"T_27f4c697_45a0_11eb_b30a_d03745aabf2erow10_col0\" class=\"data row10 col0\" >value</td>\n                        <td id=\"T_27f4c697_45a0_11eb_b30a_d03745aabf2erow10_col1\" class=\"data row10 col1\" >1560</td>\n            </tr>\n            <tr>\n                        <th id=\"T_27f4c697_45a0_11eb_b30a_d03745aabf2elevel0_row11\" class=\"row_heading level0 row11\" >11</th>\n                        <td id=\"T_27f4c697_45a0_11eb_b30a_d03745aabf2erow11_col0\" class=\"data row11 col0\" >array</td>\n                        <td id=\"T_27f4c697_45a0_11eb_b30a_d03745aabf2erow11_col1\" class=\"data row11 col1\" >1492</td>\n            </tr>\n            <tr>\n                        <th id=\"T_27f4c697_45a0_11eb_b30a_d03745aabf2elevel0_row12\" class=\"row_heading level0 row12\" >12</th>\n                        <td id=\"T_27f4c697_45a0_11eb_b30a_d03745aabf2erow12_col0\" class=\"data row12 col0\" >python</td>\n                        <td id=\"T_27f4c697_45a0_11eb_b30a_d03745aabf2erow12_col1\" class=\"data row12 col1\" >1413</td>\n            </tr>\n            <tr>\n                        <th id=\"T_27f4c697_45a0_11eb_b30a_d03745aabf2elevel0_row13\" class=\"row_heading level0 row13\" >13</th>\n                        <td id=\"T_27f4c697_45a0_11eb_b30a_d03745aabf2erow13_col0\" class=\"data row13 col0\" >multiple</td>\n                        <td id=\"T_27f4c697_45a0_11eb_b30a_d03745aabf2erow13_col1\" class=\"data row13 col1\" >1404</td>\n            </tr>\n            <tr>\n                        <th id=\"T_27f4c697_45a0_11eb_b30a_d03745aabf2elevel0_row14\" class=\"row_heading level0 row14\" >14</th>\n                        <td id=\"T_27f4c697_45a0_11eb_b30a_d03745aabf2erow14_col0\" class=\"data row14 col0\" >string</td>\n                        <td id=\"T_27f4c697_45a0_11eb_b30a_d03745aabf2erow14_col1\" class=\"data row14 col1\" >1387</td>\n            </tr>\n            <tr>\n                        <th id=\"T_27f4c697_45a0_11eb_b30a_d03745aabf2elevel0_row15\" class=\"row_heading level0 row15\" >15</th>\n                        <td id=\"T_27f4c697_45a0_11eb_b30a_d03745aabf2erow15_col0\" class=\"data row15 col0\" >javascript</td>\n                        <td id=\"T_27f4c697_45a0_11eb_b30a_d03745aabf2erow15_col1\" class=\"data row15 col1\" >1356</td>\n            </tr>\n            <tr>\n                        <th id=\"T_27f4c697_45a0_11eb_b30a_d03745aabf2elevel0_row16\" class=\"row_heading level0 row16\" >16</th>\n                        <td id=\"T_27f4c697_45a0_11eb_b30a_d03745aabf2erow16_col0\" class=\"data row16 col0\" >server</td>\n                        <td id=\"T_27f4c697_45a0_11eb_b30a_d03745aabf2erow16_col1\" class=\"data row16 col1\" >1284</td>\n            </tr>\n            <tr>\n                        <th id=\"T_27f4c697_45a0_11eb_b30a_d03745aabf2elevel0_row17\" class=\"row_heading level0 row17\" >17</th>\n                        <td id=\"T_27f4c697_45a0_11eb_b30a_d03745aabf2erow17_col0\" class=\"data row17 col0\" >sql</td>\n                        <td id=\"T_27f4c697_45a0_11eb_b30a_d03745aabf2erow17_col1\" class=\"data row17 col1\" >1279</td>\n            </tr>\n            <tr>\n                        <th id=\"T_27f4c697_45a0_11eb_b30a_d03745aabf2elevel0_row18\" class=\"row_heading level0 row18\" >18</th>\n                        <td id=\"T_27f4c697_45a0_11eb_b30a_d03745aabf2erow18_col0\" class=\"data row18 col0\" >class</td>\n                        <td id=\"T_27f4c697_45a0_11eb_b30a_d03745aabf2erow18_col1\" class=\"data row18 col1\" >1252</td>\n            </tr>\n            <tr>\n                        <th id=\"T_27f4c697_45a0_11eb_b30a_d03745aabf2elevel0_row19\" class=\"row_heading level0 row19\" >19</th>\n                        <td id=\"T_27f4c697_45a0_11eb_b30a_d03745aabf2erow19_col0\" class=\"data row19 col0\" >working</td>\n                        <td id=\"T_27f4c697_45a0_11eb_b30a_d03745aabf2erow19_col1\" class=\"data row19 col1\" >1242</td>\n            </tr>\n            <tr>\n                        <th id=\"T_27f4c697_45a0_11eb_b30a_d03745aabf2elevel0_row20\" class=\"row_heading level0 row20\" >20</th>\n                        <td id=\"T_27f4c697_45a0_11eb_b30a_d03745aabf2erow20_col0\" class=\"data row20 col0\" >object</td>\n                        <td id=\"T_27f4c697_45a0_11eb_b30a_d03745aabf2erow20_col1\" class=\"data row20 col1\" >1217</td>\n            </tr>\n            <tr>\n                        <th id=\"T_27f4c697_45a0_11eb_b30a_d03745aabf2elevel0_row21\" class=\"row_heading level0 row21\" >21</th>\n                        <td id=\"T_27f4c697_45a0_11eb_b30a_d03745aabf2erow21_col0\" class=\"data row21 col0\" >app</td>\n                        <td id=\"T_27f4c697_45a0_11eb_b30a_d03745aabf2erow21_col1\" class=\"data row21 col1\" >1207</td>\n            </tr>\n            <tr>\n                        <th id=\"T_27f4c697_45a0_11eb_b30a_d03745aabf2elevel0_row22\" class=\"row_heading level0 row22\" >22</th>\n                        <td id=\"T_27f4c697_45a0_11eb_b30a_d03745aabf2erow22_col0\" class=\"data row22 col0\" >code</td>\n                        <td id=\"T_27f4c697_45a0_11eb_b30a_d03745aabf2erow22_col1\" class=\"data row22 col1\" >1200</td>\n            </tr>\n            <tr>\n                        <th id=\"T_27f4c697_45a0_11eb_b30a_d03745aabf2elevel0_row23\" class=\"row_heading level0 row23\" >23</th>\n                        <td id=\"T_27f4c697_45a0_11eb_b30a_d03745aabf2erow23_col0\" class=\"data row23 col0\" >list</td>\n                        <td id=\"T_27f4c697_45a0_11eb_b30a_d03745aabf2erow23_col1\" class=\"data row23 col1\" >1196</td>\n            </tr>\n            <tr>\n                        <th id=\"T_27f4c697_45a0_11eb_b30a_d03745aabf2elevel0_row24\" class=\"row_heading level0 row24\" >24</th>\n                        <td id=\"T_27f4c697_45a0_11eb_b30a_d03745aabf2erow24_col0\" class=\"data row24 col0\" >table</td>\n                        <td id=\"T_27f4c697_45a0_11eb_b30a_d03745aabf2erow24_col1\" class=\"data row24 col1\" >1172</td>\n            </tr>\n    </tbody></table>"
     },
     "metadata": {},
     "execution_count": 44
    }
   ],
   "source": [
    "# Color Code\n",
    "# 'Accent', 'Accent_r', 'Blues', 'Blues_r', 'BrBG', 'BrBG_r', 'BuGn', 'BuGn_r', 'BuPu', 'BuPu_r', 'CMRmap', 'CMRmap_r', 'Dark2', 'Dark2_r', 'GnBu', 'GnBu_r', 'Greens', 'Greens_r', 'Greys', 'Greys_r', 'OrRd', 'OrRd_r', 'Oranges', 'Oranges_r', 'PRGn', 'PRGn_r', 'Paired', 'Paired_r', 'Pastel1', 'Pastel1_r', 'Pastel2', 'Pastel2_r', 'PiYG', 'PiYG_r', 'PuBu', 'PuBuGn', 'PuBuGn_r', 'PuBu_r', 'PuOr', 'PuOr_r', 'PuRd', 'PuRd_r', 'Purples', 'Purples_r', 'RdBu', 'RdBu_r', 'RdGy', 'RdGy_r', 'RdPu', 'RdPu_r', 'RdYlBu', 'RdYlBu_r', 'RdYlGn', 'RdYlGn_r', 'Reds', 'Reds_r', 'Set1', 'Set1_r', 'Set2', 'Set2_r', 'Set3', 'Set3_r', 'Spectral', 'Spectral_r', 'Wistia', 'Wistia_r', 'YlGn', 'YlGnBu', 'YlGnBu_r', 'YlGn_r', 'YlOrBr', 'YlOrBr_r', 'YlOrRd', 'YlOrRd_r', 'afmhot', 'afmhot_r', 'autumn', 'autumn_r', 'binary', 'binary_r', 'bone', 'bone_r', 'brg', 'brg_r', 'bwr', 'bwr_r', 'cividis', 'cividis_r', 'cool', 'cool_r', 'coolwarm', 'coolwarm_r', 'copper', 'copper_r', 'cubehelix', 'cubehelix_r', 'flag', 'flag_r', 'gist_earth', 'gist_earth_r', 'gist_gray', 'gist_gray_r', 'gist_heat', 'gist_heat_r', 'gist_ncar', 'gist_ncar_r', 'gist_rainbow', 'gist_rainbow_r', 'gist_stern', 'gist_stern_r', 'gist_yarg', 'gist_yarg_r', 'gnuplot', 'gnuplot2', 'gnuplot2_r', 'gnuplot_r', 'gray', 'gray_r', 'hot', 'hot_r', 'hsv', 'hsv_r', 'inferno', 'inferno_r', 'jet', 'jet_r', 'magma', 'magma_r', 'nipy_spectral', 'nipy_spectral_r', 'ocean', 'ocean_r', 'pink', 'pink_r', 'plasma', 'plasma_r', 'prism', 'prism_r', 'rainbow', 'rainbow_r', 'seismic', 'seismic_r', 'spring', 'spring_r', 'summer', 'summer_r', 'tab10', 'tab10_r', 'tab20', 'tab20_r', 'tab20b', 'tab20b_r', 'tab20c', 'tab20c_r', 'terrain', 'terrain_r', 'turbo', 'turbo_r', 'twilight', 'twilight_r', 'twilight_shifted', 'twilight_shifted_r', 'viridis', 'viridis_r', 'winter', 'winter_r'\n",
    "\n",
    "\n",
    "top = Counter([item for sublist in df['Title'] for item in sublist])\n",
    "titleDf = pd.DataFrame(top.most_common(25))\n",
    "\n",
    "\n",
    "titleDf.columns = ['Common_words','count']\n",
    "titleDf.style.background_gradient(cmap='CMRmap')"
   ]
  },
  {
   "cell_type": "code",
   "execution_count": 49,
   "metadata": {},
   "outputs": [
    {
     "output_type": "display_data",
     "data": {
      "application/vnd.plotly.v1+json": {
       "config": {
        "plotlyServerURL": "https://plot.ly"
       },
       "data": [
        {
         "alignmentgroup": "True",
         "hovertemplate": "Common_words=%{y}<br>count=%{x}<extra></extra>",
         "legendgroup": "file",
         "marker": {
          "color": "#636efa"
         },
         "name": "file",
         "offsetgroup": "file",
         "orientation": "h",
         "showlegend": true,
         "textposition": "auto",
         "type": "bar",
         "x": [
          2704
         ],
         "xaxis": "x",
         "y": [
          "file"
         ],
         "yaxis": "y"
        },
        {
         "alignmentgroup": "True",
         "hovertemplate": "Common_words=%{y}<br>count=%{x}<extra></extra>",
         "legendgroup": "error",
         "marker": {
          "color": "#EF553B"
         },
         "name": "error",
         "offsetgroup": "error",
         "orientation": "h",
         "showlegend": true,
         "textposition": "auto",
         "type": "bar",
         "x": [
          2387
         ],
         "xaxis": "x",
         "y": [
          "error"
         ],
         "yaxis": "y"
        },
        {
         "alignmentgroup": "True",
         "hovertemplate": "Common_words=%{y}<br>count=%{x}<extra></extra>",
         "legendgroup": "c",
         "marker": {
          "color": "#00cc96"
         },
         "name": "c",
         "offsetgroup": "c",
         "orientation": "h",
         "showlegend": true,
         "textposition": "auto",
         "type": "bar",
         "x": [
          2348
         ],
         "xaxis": "x",
         "y": [
          "c"
         ],
         "yaxis": "y"
        },
        {
         "alignmentgroup": "True",
         "hovertemplate": "Common_words=%{y}<br>count=%{x}<extra></extra>",
         "legendgroup": "data",
         "marker": {
          "color": "#ab63fa"
         },
         "name": "data",
         "offsetgroup": "data",
         "orientation": "h",
         "showlegend": true,
         "textposition": "auto",
         "type": "bar",
         "x": [
          2238
         ],
         "xaxis": "x",
         "y": [
          "data"
         ],
         "yaxis": "y"
        },
        {
         "alignmentgroup": "True",
         "hovertemplate": "Common_words=%{y}<br>count=%{x}<extra></extra>",
         "legendgroup": "android",
         "marker": {
          "color": "#FFA15A"
         },
         "name": "android",
         "offsetgroup": "android",
         "orientation": "h",
         "showlegend": true,
         "textposition": "auto",
         "type": "bar",
         "x": [
          2226
         ],
         "xaxis": "x",
         "y": [
          "android"
         ],
         "yaxis": "y"
        },
        {
         "alignmentgroup": "True",
         "hovertemplate": "Common_words=%{y}<br>count=%{x}<extra></extra>",
         "legendgroup": "php",
         "marker": {
          "color": "#19d3f3"
         },
         "name": "php",
         "offsetgroup": "php",
         "orientation": "h",
         "showlegend": true,
         "textposition": "auto",
         "type": "bar",
         "x": [
          1859
         ],
         "xaxis": "x",
         "y": [
          "php"
         ],
         "yaxis": "y"
        },
        {
         "alignmentgroup": "True",
         "hovertemplate": "Common_words=%{y}<br>count=%{x}<extra></extra>",
         "legendgroup": "jquery",
         "marker": {
          "color": "#FF6692"
         },
         "name": "jquery",
         "offsetgroup": "jquery",
         "orientation": "h",
         "showlegend": true,
         "textposition": "auto",
         "type": "bar",
         "x": [
          1722
         ],
         "xaxis": "x",
         "y": [
          "jquery"
         ],
         "yaxis": "y"
        },
        {
         "alignmentgroup": "True",
         "hovertemplate": "Common_words=%{y}<br>count=%{x}<extra></extra>",
         "legendgroup": "use",
         "marker": {
          "color": "#B6E880"
         },
         "name": "use",
         "offsetgroup": "use",
         "orientation": "h",
         "showlegend": true,
         "textposition": "auto",
         "type": "bar",
         "x": [
          1666
         ],
         "xaxis": "x",
         "y": [
          "use"
         ],
         "yaxis": "y"
        },
        {
         "alignmentgroup": "True",
         "hovertemplate": "Common_words=%{y}<br>count=%{x}<extra></extra>",
         "legendgroup": "java",
         "marker": {
          "color": "#FF97FF"
         },
         "name": "java",
         "offsetgroup": "java",
         "orientation": "h",
         "showlegend": true,
         "textposition": "auto",
         "type": "bar",
         "x": [
          1618
         ],
         "xaxis": "x",
         "y": [
          "java"
         ],
         "yaxis": "y"
        },
        {
         "alignmentgroup": "True",
         "hovertemplate": "Common_words=%{y}<br>count=%{x}<extra></extra>",
         "legendgroup": "function",
         "marker": {
          "color": "#FECB52"
         },
         "name": "function",
         "offsetgroup": "function",
         "orientation": "h",
         "showlegend": true,
         "textposition": "auto",
         "type": "bar",
         "x": [
          1571
         ],
         "xaxis": "x",
         "y": [
          "function"
         ],
         "yaxis": "y"
        },
        {
         "alignmentgroup": "True",
         "hovertemplate": "Common_words=%{y}<br>count=%{x}<extra></extra>",
         "legendgroup": "value",
         "marker": {
          "color": "#636efa"
         },
         "name": "value",
         "offsetgroup": "value",
         "orientation": "h",
         "showlegend": true,
         "textposition": "auto",
         "type": "bar",
         "x": [
          1560
         ],
         "xaxis": "x",
         "y": [
          "value"
         ],
         "yaxis": "y"
        },
        {
         "alignmentgroup": "True",
         "hovertemplate": "Common_words=%{y}<br>count=%{x}<extra></extra>",
         "legendgroup": "array",
         "marker": {
          "color": "#EF553B"
         },
         "name": "array",
         "offsetgroup": "array",
         "orientation": "h",
         "showlegend": true,
         "textposition": "auto",
         "type": "bar",
         "x": [
          1492
         ],
         "xaxis": "x",
         "y": [
          "array"
         ],
         "yaxis": "y"
        },
        {
         "alignmentgroup": "True",
         "hovertemplate": "Common_words=%{y}<br>count=%{x}<extra></extra>",
         "legendgroup": "python",
         "marker": {
          "color": "#00cc96"
         },
         "name": "python",
         "offsetgroup": "python",
         "orientation": "h",
         "showlegend": true,
         "textposition": "auto",
         "type": "bar",
         "x": [
          1413
         ],
         "xaxis": "x",
         "y": [
          "python"
         ],
         "yaxis": "y"
        },
        {
         "alignmentgroup": "True",
         "hovertemplate": "Common_words=%{y}<br>count=%{x}<extra></extra>",
         "legendgroup": "multiple",
         "marker": {
          "color": "#ab63fa"
         },
         "name": "multiple",
         "offsetgroup": "multiple",
         "orientation": "h",
         "showlegend": true,
         "textposition": "auto",
         "type": "bar",
         "x": [
          1404
         ],
         "xaxis": "x",
         "y": [
          "multiple"
         ],
         "yaxis": "y"
        },
        {
         "alignmentgroup": "True",
         "hovertemplate": "Common_words=%{y}<br>count=%{x}<extra></extra>",
         "legendgroup": "string",
         "marker": {
          "color": "#FFA15A"
         },
         "name": "string",
         "offsetgroup": "string",
         "orientation": "h",
         "showlegend": true,
         "textposition": "auto",
         "type": "bar",
         "x": [
          1387
         ],
         "xaxis": "x",
         "y": [
          "string"
         ],
         "yaxis": "y"
        },
        {
         "alignmentgroup": "True",
         "hovertemplate": "Common_words=%{y}<br>count=%{x}<extra></extra>",
         "legendgroup": "javascript",
         "marker": {
          "color": "#19d3f3"
         },
         "name": "javascript",
         "offsetgroup": "javascript",
         "orientation": "h",
         "showlegend": true,
         "textposition": "auto",
         "type": "bar",
         "x": [
          1356
         ],
         "xaxis": "x",
         "y": [
          "javascript"
         ],
         "yaxis": "y"
        },
        {
         "alignmentgroup": "True",
         "hovertemplate": "Common_words=%{y}<br>count=%{x}<extra></extra>",
         "legendgroup": "server",
         "marker": {
          "color": "#FF6692"
         },
         "name": "server",
         "offsetgroup": "server",
         "orientation": "h",
         "showlegend": true,
         "textposition": "auto",
         "type": "bar",
         "x": [
          1284
         ],
         "xaxis": "x",
         "y": [
          "server"
         ],
         "yaxis": "y"
        },
        {
         "alignmentgroup": "True",
         "hovertemplate": "Common_words=%{y}<br>count=%{x}<extra></extra>",
         "legendgroup": "sql",
         "marker": {
          "color": "#B6E880"
         },
         "name": "sql",
         "offsetgroup": "sql",
         "orientation": "h",
         "showlegend": true,
         "textposition": "auto",
         "type": "bar",
         "x": [
          1279
         ],
         "xaxis": "x",
         "y": [
          "sql"
         ],
         "yaxis": "y"
        },
        {
         "alignmentgroup": "True",
         "hovertemplate": "Common_words=%{y}<br>count=%{x}<extra></extra>",
         "legendgroup": "class",
         "marker": {
          "color": "#FF97FF"
         },
         "name": "class",
         "offsetgroup": "class",
         "orientation": "h",
         "showlegend": true,
         "textposition": "auto",
         "type": "bar",
         "x": [
          1252
         ],
         "xaxis": "x",
         "y": [
          "class"
         ],
         "yaxis": "y"
        },
        {
         "alignmentgroup": "True",
         "hovertemplate": "Common_words=%{y}<br>count=%{x}<extra></extra>",
         "legendgroup": "working",
         "marker": {
          "color": "#FECB52"
         },
         "name": "working",
         "offsetgroup": "working",
         "orientation": "h",
         "showlegend": true,
         "textposition": "auto",
         "type": "bar",
         "x": [
          1242
         ],
         "xaxis": "x",
         "y": [
          "working"
         ],
         "yaxis": "y"
        },
        {
         "alignmentgroup": "True",
         "hovertemplate": "Common_words=%{y}<br>count=%{x}<extra></extra>",
         "legendgroup": "object",
         "marker": {
          "color": "#636efa"
         },
         "name": "object",
         "offsetgroup": "object",
         "orientation": "h",
         "showlegend": true,
         "textposition": "auto",
         "type": "bar",
         "x": [
          1217
         ],
         "xaxis": "x",
         "y": [
          "object"
         ],
         "yaxis": "y"
        },
        {
         "alignmentgroup": "True",
         "hovertemplate": "Common_words=%{y}<br>count=%{x}<extra></extra>",
         "legendgroup": "app",
         "marker": {
          "color": "#EF553B"
         },
         "name": "app",
         "offsetgroup": "app",
         "orientation": "h",
         "showlegend": true,
         "textposition": "auto",
         "type": "bar",
         "x": [
          1207
         ],
         "xaxis": "x",
         "y": [
          "app"
         ],
         "yaxis": "y"
        },
        {
         "alignmentgroup": "True",
         "hovertemplate": "Common_words=%{y}<br>count=%{x}<extra></extra>",
         "legendgroup": "code",
         "marker": {
          "color": "#00cc96"
         },
         "name": "code",
         "offsetgroup": "code",
         "orientation": "h",
         "showlegend": true,
         "textposition": "auto",
         "type": "bar",
         "x": [
          1200
         ],
         "xaxis": "x",
         "y": [
          "code"
         ],
         "yaxis": "y"
        },
        {
         "alignmentgroup": "True",
         "hovertemplate": "Common_words=%{y}<br>count=%{x}<extra></extra>",
         "legendgroup": "list",
         "marker": {
          "color": "#ab63fa"
         },
         "name": "list",
         "offsetgroup": "list",
         "orientation": "h",
         "showlegend": true,
         "textposition": "auto",
         "type": "bar",
         "x": [
          1196
         ],
         "xaxis": "x",
         "y": [
          "list"
         ],
         "yaxis": "y"
        },
        {
         "alignmentgroup": "True",
         "hovertemplate": "Common_words=%{y}<br>count=%{x}<extra></extra>",
         "legendgroup": "table",
         "marker": {
          "color": "#FFA15A"
         },
         "name": "table",
         "offsetgroup": "table",
         "orientation": "h",
         "showlegend": true,
         "textposition": "auto",
         "type": "bar",
         "x": [
          1172
         ],
         "xaxis": "x",
         "y": [
          "table"
         ],
         "yaxis": "y"
        }
       ],
       "layout": {
        "barmode": "relative",
        "height": 700,
        "legend": {
         "title": {
          "text": "Common_words"
         },
         "tracegroupgap": 0
        },
        "template": {
         "data": {
          "bar": [
           {
            "error_x": {
             "color": "#2a3f5f"
            },
            "error_y": {
             "color": "#2a3f5f"
            },
            "marker": {
             "line": {
              "color": "#E5ECF6",
              "width": 0.5
             }
            },
            "type": "bar"
           }
          ],
          "barpolar": [
           {
            "marker": {
             "line": {
              "color": "#E5ECF6",
              "width": 0.5
             }
            },
            "type": "barpolar"
           }
          ],
          "carpet": [
           {
            "aaxis": {
             "endlinecolor": "#2a3f5f",
             "gridcolor": "white",
             "linecolor": "white",
             "minorgridcolor": "white",
             "startlinecolor": "#2a3f5f"
            },
            "baxis": {
             "endlinecolor": "#2a3f5f",
             "gridcolor": "white",
             "linecolor": "white",
             "minorgridcolor": "white",
             "startlinecolor": "#2a3f5f"
            },
            "type": "carpet"
           }
          ],
          "choropleth": [
           {
            "colorbar": {
             "outlinewidth": 0,
             "ticks": ""
            },
            "type": "choropleth"
           }
          ],
          "contour": [
           {
            "colorbar": {
             "outlinewidth": 0,
             "ticks": ""
            },
            "colorscale": [
             [
              0,
              "#0d0887"
             ],
             [
              0.1111111111111111,
              "#46039f"
             ],
             [
              0.2222222222222222,
              "#7201a8"
             ],
             [
              0.3333333333333333,
              "#9c179e"
             ],
             [
              0.4444444444444444,
              "#bd3786"
             ],
             [
              0.5555555555555556,
              "#d8576b"
             ],
             [
              0.6666666666666666,
              "#ed7953"
             ],
             [
              0.7777777777777778,
              "#fb9f3a"
             ],
             [
              0.8888888888888888,
              "#fdca26"
             ],
             [
              1,
              "#f0f921"
             ]
            ],
            "type": "contour"
           }
          ],
          "contourcarpet": [
           {
            "colorbar": {
             "outlinewidth": 0,
             "ticks": ""
            },
            "type": "contourcarpet"
           }
          ],
          "heatmap": [
           {
            "colorbar": {
             "outlinewidth": 0,
             "ticks": ""
            },
            "colorscale": [
             [
              0,
              "#0d0887"
             ],
             [
              0.1111111111111111,
              "#46039f"
             ],
             [
              0.2222222222222222,
              "#7201a8"
             ],
             [
              0.3333333333333333,
              "#9c179e"
             ],
             [
              0.4444444444444444,
              "#bd3786"
             ],
             [
              0.5555555555555556,
              "#d8576b"
             ],
             [
              0.6666666666666666,
              "#ed7953"
             ],
             [
              0.7777777777777778,
              "#fb9f3a"
             ],
             [
              0.8888888888888888,
              "#fdca26"
             ],
             [
              1,
              "#f0f921"
             ]
            ],
            "type": "heatmap"
           }
          ],
          "heatmapgl": [
           {
            "colorbar": {
             "outlinewidth": 0,
             "ticks": ""
            },
            "colorscale": [
             [
              0,
              "#0d0887"
             ],
             [
              0.1111111111111111,
              "#46039f"
             ],
             [
              0.2222222222222222,
              "#7201a8"
             ],
             [
              0.3333333333333333,
              "#9c179e"
             ],
             [
              0.4444444444444444,
              "#bd3786"
             ],
             [
              0.5555555555555556,
              "#d8576b"
             ],
             [
              0.6666666666666666,
              "#ed7953"
             ],
             [
              0.7777777777777778,
              "#fb9f3a"
             ],
             [
              0.8888888888888888,
              "#fdca26"
             ],
             [
              1,
              "#f0f921"
             ]
            ],
            "type": "heatmapgl"
           }
          ],
          "histogram": [
           {
            "marker": {
             "colorbar": {
              "outlinewidth": 0,
              "ticks": ""
             }
            },
            "type": "histogram"
           }
          ],
          "histogram2d": [
           {
            "colorbar": {
             "outlinewidth": 0,
             "ticks": ""
            },
            "colorscale": [
             [
              0,
              "#0d0887"
             ],
             [
              0.1111111111111111,
              "#46039f"
             ],
             [
              0.2222222222222222,
              "#7201a8"
             ],
             [
              0.3333333333333333,
              "#9c179e"
             ],
             [
              0.4444444444444444,
              "#bd3786"
             ],
             [
              0.5555555555555556,
              "#d8576b"
             ],
             [
              0.6666666666666666,
              "#ed7953"
             ],
             [
              0.7777777777777778,
              "#fb9f3a"
             ],
             [
              0.8888888888888888,
              "#fdca26"
             ],
             [
              1,
              "#f0f921"
             ]
            ],
            "type": "histogram2d"
           }
          ],
          "histogram2dcontour": [
           {
            "colorbar": {
             "outlinewidth": 0,
             "ticks": ""
            },
            "colorscale": [
             [
              0,
              "#0d0887"
             ],
             [
              0.1111111111111111,
              "#46039f"
             ],
             [
              0.2222222222222222,
              "#7201a8"
             ],
             [
              0.3333333333333333,
              "#9c179e"
             ],
             [
              0.4444444444444444,
              "#bd3786"
             ],
             [
              0.5555555555555556,
              "#d8576b"
             ],
             [
              0.6666666666666666,
              "#ed7953"
             ],
             [
              0.7777777777777778,
              "#fb9f3a"
             ],
             [
              0.8888888888888888,
              "#fdca26"
             ],
             [
              1,
              "#f0f921"
             ]
            ],
            "type": "histogram2dcontour"
           }
          ],
          "mesh3d": [
           {
            "colorbar": {
             "outlinewidth": 0,
             "ticks": ""
            },
            "type": "mesh3d"
           }
          ],
          "parcoords": [
           {
            "line": {
             "colorbar": {
              "outlinewidth": 0,
              "ticks": ""
             }
            },
            "type": "parcoords"
           }
          ],
          "pie": [
           {
            "automargin": true,
            "type": "pie"
           }
          ],
          "scatter": [
           {
            "marker": {
             "colorbar": {
              "outlinewidth": 0,
              "ticks": ""
             }
            },
            "type": "scatter"
           }
          ],
          "scatter3d": [
           {
            "line": {
             "colorbar": {
              "outlinewidth": 0,
              "ticks": ""
             }
            },
            "marker": {
             "colorbar": {
              "outlinewidth": 0,
              "ticks": ""
             }
            },
            "type": "scatter3d"
           }
          ],
          "scattercarpet": [
           {
            "marker": {
             "colorbar": {
              "outlinewidth": 0,
              "ticks": ""
             }
            },
            "type": "scattercarpet"
           }
          ],
          "scattergeo": [
           {
            "marker": {
             "colorbar": {
              "outlinewidth": 0,
              "ticks": ""
             }
            },
            "type": "scattergeo"
           }
          ],
          "scattergl": [
           {
            "marker": {
             "colorbar": {
              "outlinewidth": 0,
              "ticks": ""
             }
            },
            "type": "scattergl"
           }
          ],
          "scattermapbox": [
           {
            "marker": {
             "colorbar": {
              "outlinewidth": 0,
              "ticks": ""
             }
            },
            "type": "scattermapbox"
           }
          ],
          "scatterpolar": [
           {
            "marker": {
             "colorbar": {
              "outlinewidth": 0,
              "ticks": ""
             }
            },
            "type": "scatterpolar"
           }
          ],
          "scatterpolargl": [
           {
            "marker": {
             "colorbar": {
              "outlinewidth": 0,
              "ticks": ""
             }
            },
            "type": "scatterpolargl"
           }
          ],
          "scatterternary": [
           {
            "marker": {
             "colorbar": {
              "outlinewidth": 0,
              "ticks": ""
             }
            },
            "type": "scatterternary"
           }
          ],
          "surface": [
           {
            "colorbar": {
             "outlinewidth": 0,
             "ticks": ""
            },
            "colorscale": [
             [
              0,
              "#0d0887"
             ],
             [
              0.1111111111111111,
              "#46039f"
             ],
             [
              0.2222222222222222,
              "#7201a8"
             ],
             [
              0.3333333333333333,
              "#9c179e"
             ],
             [
              0.4444444444444444,
              "#bd3786"
             ],
             [
              0.5555555555555556,
              "#d8576b"
             ],
             [
              0.6666666666666666,
              "#ed7953"
             ],
             [
              0.7777777777777778,
              "#fb9f3a"
             ],
             [
              0.8888888888888888,
              "#fdca26"
             ],
             [
              1,
              "#f0f921"
             ]
            ],
            "type": "surface"
           }
          ],
          "table": [
           {
            "cells": {
             "fill": {
              "color": "#EBF0F8"
             },
             "line": {
              "color": "white"
             }
            },
            "header": {
             "fill": {
              "color": "#C8D4E3"
             },
             "line": {
              "color": "white"
             }
            },
            "type": "table"
           }
          ]
         },
         "layout": {
          "annotationdefaults": {
           "arrowcolor": "#2a3f5f",
           "arrowhead": 0,
           "arrowwidth": 1
          },
          "autotypenumbers": "strict",
          "coloraxis": {
           "colorbar": {
            "outlinewidth": 0,
            "ticks": ""
           }
          },
          "colorscale": {
           "diverging": [
            [
             0,
             "#8e0152"
            ],
            [
             0.1,
             "#c51b7d"
            ],
            [
             0.2,
             "#de77ae"
            ],
            [
             0.3,
             "#f1b6da"
            ],
            [
             0.4,
             "#fde0ef"
            ],
            [
             0.5,
             "#f7f7f7"
            ],
            [
             0.6,
             "#e6f5d0"
            ],
            [
             0.7,
             "#b8e186"
            ],
            [
             0.8,
             "#7fbc41"
            ],
            [
             0.9,
             "#4d9221"
            ],
            [
             1,
             "#276419"
            ]
           ],
           "sequential": [
            [
             0,
             "#0d0887"
            ],
            [
             0.1111111111111111,
             "#46039f"
            ],
            [
             0.2222222222222222,
             "#7201a8"
            ],
            [
             0.3333333333333333,
             "#9c179e"
            ],
            [
             0.4444444444444444,
             "#bd3786"
            ],
            [
             0.5555555555555556,
             "#d8576b"
            ],
            [
             0.6666666666666666,
             "#ed7953"
            ],
            [
             0.7777777777777778,
             "#fb9f3a"
            ],
            [
             0.8888888888888888,
             "#fdca26"
            ],
            [
             1,
             "#f0f921"
            ]
           ],
           "sequentialminus": [
            [
             0,
             "#0d0887"
            ],
            [
             0.1111111111111111,
             "#46039f"
            ],
            [
             0.2222222222222222,
             "#7201a8"
            ],
            [
             0.3333333333333333,
             "#9c179e"
            ],
            [
             0.4444444444444444,
             "#bd3786"
            ],
            [
             0.5555555555555556,
             "#d8576b"
            ],
            [
             0.6666666666666666,
             "#ed7953"
            ],
            [
             0.7777777777777778,
             "#fb9f3a"
            ],
            [
             0.8888888888888888,
             "#fdca26"
            ],
            [
             1,
             "#f0f921"
            ]
           ]
          },
          "colorway": [
           "#636efa",
           "#EF553B",
           "#00cc96",
           "#ab63fa",
           "#FFA15A",
           "#19d3f3",
           "#FF6692",
           "#B6E880",
           "#FF97FF",
           "#FECB52"
          ],
          "font": {
           "color": "#2a3f5f"
          },
          "geo": {
           "bgcolor": "white",
           "lakecolor": "white",
           "landcolor": "#E5ECF6",
           "showlakes": true,
           "showland": true,
           "subunitcolor": "white"
          },
          "hoverlabel": {
           "align": "left"
          },
          "hovermode": "closest",
          "mapbox": {
           "style": "light"
          },
          "paper_bgcolor": "white",
          "plot_bgcolor": "#E5ECF6",
          "polar": {
           "angularaxis": {
            "gridcolor": "white",
            "linecolor": "white",
            "ticks": ""
           },
           "bgcolor": "#E5ECF6",
           "radialaxis": {
            "gridcolor": "white",
            "linecolor": "white",
            "ticks": ""
           }
          },
          "scene": {
           "xaxis": {
            "backgroundcolor": "#E5ECF6",
            "gridcolor": "white",
            "gridwidth": 2,
            "linecolor": "white",
            "showbackground": true,
            "ticks": "",
            "zerolinecolor": "white"
           },
           "yaxis": {
            "backgroundcolor": "#E5ECF6",
            "gridcolor": "white",
            "gridwidth": 2,
            "linecolor": "white",
            "showbackground": true,
            "ticks": "",
            "zerolinecolor": "white"
           },
           "zaxis": {
            "backgroundcolor": "#E5ECF6",
            "gridcolor": "white",
            "gridwidth": 2,
            "linecolor": "white",
            "showbackground": true,
            "ticks": "",
            "zerolinecolor": "white"
           }
          },
          "shapedefaults": {
           "line": {
            "color": "#2a3f5f"
           }
          },
          "ternary": {
           "aaxis": {
            "gridcolor": "white",
            "linecolor": "white",
            "ticks": ""
           },
           "baxis": {
            "gridcolor": "white",
            "linecolor": "white",
            "ticks": ""
           },
           "bgcolor": "#E5ECF6",
           "caxis": {
            "gridcolor": "white",
            "linecolor": "white",
            "ticks": ""
           }
          },
          "title": {
           "x": 0.05
          },
          "xaxis": {
           "automargin": true,
           "gridcolor": "white",
           "linecolor": "white",
           "ticks": "",
           "title": {
            "standoff": 15
           },
           "zerolinecolor": "white",
           "zerolinewidth": 2
          },
          "yaxis": {
           "automargin": true,
           "gridcolor": "white",
           "linecolor": "white",
           "ticks": "",
           "title": {
            "standoff": 15
           },
           "zerolinecolor": "white",
           "zerolinewidth": 2
          }
         }
        },
        "title": {
         "text": "Commmon Words in Title"
        },
        "width": 700,
        "xaxis": {
         "anchor": "y",
         "domain": [
          0,
          1
         ],
         "title": {
          "text": "count"
         }
        },
        "yaxis": {
         "anchor": "x",
         "categoryarray": [
          "table",
          "list",
          "code",
          "app",
          "object",
          "working",
          "class",
          "sql",
          "server",
          "javascript",
          "string",
          "multiple",
          "python",
          "array",
          "value",
          "function",
          "java",
          "use",
          "jquery",
          "php",
          "android",
          "data",
          "c",
          "error",
          "file"
         ],
         "categoryorder": "array",
         "domain": [
          0,
          1
         ],
         "title": {
          "text": "Common_words"
         }
        }
       }
      }
     },
     "metadata": {}
    }
   ],
   "source": [
    "fig = px.bar(titleDf, x=\"count\", y=\"Common_words\", title='Commmon Words in Title', orientation='h', \n",
    "             width=700, height=700,color='Common_words')\n",
    "fig.show()"
   ]
  },
  {
   "cell_type": "code",
   "execution_count": null,
   "metadata": {},
   "outputs": [],
   "source": [
    "fig = px.treemap(top, path=['Common_words'], values='count',title='Tree of Most Common Words in the body')\n",
    "fig.show()"
   ]
  }
 ]
}